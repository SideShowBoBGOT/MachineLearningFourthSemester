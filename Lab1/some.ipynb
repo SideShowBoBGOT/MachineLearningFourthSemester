{
 "cells": [
  {
   "attachments": {},
   "cell_type": "markdown",
   "metadata": {},
   "source": [
    "# 3 Виконання"
   ]
  },
  {
   "attachments": {},
   "cell_type": "markdown",
   "metadata": {},
   "source": [
    "## 3.1 Обрати та завантажити дані"
   ]
  },
  {
   "attachments": {},
   "cell_type": "markdown",
   "metadata": {},
   "source": [
    "### Імпортуємо бібліотеки, визначимо налаштування для pandas, завантажимо датафрейм"
   ]
  },
  {
   "cell_type": "code",
   "execution_count": 1,
   "metadata": {},
   "outputs": [
    {
     "data": {
      "text/html": [
       "<div>\n",
       "<style scoped>\n",
       "    .dataframe tbody tr th:only-of-type {\n",
       "        vertical-align: middle;\n",
       "    }\n",
       "\n",
       "    .dataframe tbody tr th {\n",
       "        vertical-align: top;\n",
       "    }\n",
       "\n",
       "    .dataframe thead th {\n",
       "        text-align: right;\n",
       "    }\n",
       "</style>\n",
       "<table border=\"1\" class=\"dataframe\">\n",
       "  <thead>\n",
       "    <tr style=\"text-align: right;\">\n",
       "      <th></th>\n",
       "      <th>crimes</th>\n",
       "      <th>accused</th>\n",
       "      <th>adm</th>\n",
       "      <th>civils</th>\n",
       "      <th>fires</th>\n",
       "    </tr>\n",
       "    <tr>\n",
       "      <th>year</th>\n",
       "      <th></th>\n",
       "      <th></th>\n",
       "      <th></th>\n",
       "      <th></th>\n",
       "      <th></th>\n",
       "    </tr>\n",
       "  </thead>\n",
       "  <tbody>\n",
       "    <tr>\n",
       "      <th>1990</th>\n",
       "      <td>369809.0</td>\n",
       "      <td>104199.0</td>\n",
       "      <td>6515.90</td>\n",
       "      <td>379.20</td>\n",
       "      <td>NaN</td>\n",
       "    </tr>\n",
       "    <tr>\n",
       "      <th>1991</th>\n",
       "      <td>405516.0</td>\n",
       "      <td>108553.0</td>\n",
       "      <td>7841.50</td>\n",
       "      <td>358.50</td>\n",
       "      <td>NaN</td>\n",
       "    </tr>\n",
       "    <tr>\n",
       "      <th>1992</th>\n",
       "      <td>480478.0</td>\n",
       "      <td>115260.0</td>\n",
       "      <td>9723.90</td>\n",
       "      <td>364.00</td>\n",
       "      <td>NaN</td>\n",
       "    </tr>\n",
       "    <tr>\n",
       "      <th>...</th>\n",
       "      <td>...</td>\n",
       "      <td>...</td>\n",
       "      <td>...</td>\n",
       "      <td>...</td>\n",
       "      <td>...</td>\n",
       "    </tr>\n",
       "    <tr>\n",
       "      <th>2015</th>\n",
       "      <td>5651827.0</td>\n",
       "      <td>947986.0</td>\n",
       "      <td>1984.66</td>\n",
       "      <td>947.26</td>\n",
       "      <td>820166.0</td>\n",
       "    </tr>\n",
       "    <tr>\n",
       "      <th>2016</th>\n",
       "      <td>5926047.0</td>\n",
       "      <td>762176.0</td>\n",
       "      <td>2183.66</td>\n",
       "      <td>751.26</td>\n",
       "      <td>753236.0</td>\n",
       "    </tr>\n",
       "    <tr>\n",
       "      <th>2017</th>\n",
       "      <td>5239117.0</td>\n",
       "      <td>768046.0</td>\n",
       "      <td>2885.36</td>\n",
       "      <td>729.96</td>\n",
       "      <td>857246.0</td>\n",
       "    </tr>\n",
       "  </tbody>\n",
       "</table>\n",
       "<p>28 rows × 5 columns</p>\n",
       "</div>"
      ],
      "text/plain": [
       "         crimes   accused      adm  civils     fires\n",
       "year                                                \n",
       "1990   369809.0  104199.0  6515.90  379.20       NaN\n",
       "1991   405516.0  108553.0  7841.50  358.50       NaN\n",
       "1992   480478.0  115260.0  9723.90  364.00       NaN\n",
       "...         ...       ...      ...     ...       ...\n",
       "2015  5651827.0  947986.0  1984.66  947.26  820166.0\n",
       "2016  5926047.0  762176.0  2183.66  751.26  753236.0\n",
       "2017  5239117.0  768046.0  2885.36  729.96  857246.0\n",
       "\n",
       "[28 rows x 5 columns]"
      ]
     },
     "execution_count": 1,
     "metadata": {},
     "output_type": "execute_result"
    }
   ],
   "source": [
    "import pandas as pd\n",
    "import numpy as np\n",
    "import matplotlib.pyplot as plt\n",
    "\n",
    "pd.options.display.max_colwidth = 60\n",
    "pd.options.display.max_rows = 7\n",
    "pd.options.display.max_columns = 7\n",
    "pd.options.display.width = 600\n",
    "\n",
    "path_criminal_statistic = 'data/90-2002_.xlsx' \n",
    "df = pd.read_excel(path_criminal_statistic)\n",
    "df.columns = [\n",
    "    'year', 'crimes', 'accused', 'adm', 'civils', 'fires']\n",
    "df = df.set_index('year')\n",
    "obj_cols = df.select_dtypes(['object'])\n",
    "df[obj_cols.columns] = obj_cols.apply(lambda x: x.str.replace(' ', ''))\n",
    "df = df.astype(str).apply(\n",
    "    lambda x: x.str.replace(',', '.')).astype(float)\n",
    "df"
   ]
  },
  {
   "attachments": {},
   "cell_type": "markdown",
   "metadata": {},
   "source": [
    "*Завантажений датафрейм*"
   ]
  }
 ],
 "metadata": {
  "kernelspec": {
   "display_name": "Python 3",
   "language": "python",
   "name": "python3"
  },
  "language_info": {
   "codemirror_mode": {
    "name": "ipython",
    "version": 3
   },
   "file_extension": ".py",
   "mimetype": "text/x-python",
   "name": "python",
   "nbconvert_exporter": "python",
   "pygments_lexer": "ipython3",
   "version": "3.10.6"
  },
  "orig_nbformat": 4
 },
 "nbformat": 4,
 "nbformat_minor": 2
}
