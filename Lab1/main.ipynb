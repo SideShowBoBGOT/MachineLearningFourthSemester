{
 "cells": [
  {
   "attachments": {},
   "cell_type": "markdown",
   "metadata": {},
   "source": [
    "# 3 Виконання"
   ]
  },
  {
   "attachments": {},
   "cell_type": "markdown",
   "metadata": {},
   "source": [
    "## 3.1 Обрати та завантажити дані"
   ]
  },
  {
   "attachments": {},
   "cell_type": "markdown",
   "metadata": {},
   "source": [
    "### Імпортуємо бібліотеки, визначимо налаштування для pandas, завантажимо датафрейм"
   ]
  },
  {
   "cell_type": "code",
   "execution_count": 2,
   "metadata": {},
   "outputs": [
    {
     "data": {
      "text/html": [
       "<div>\n",
       "<style scoped>\n",
       "    .dataframe tbody tr th:only-of-type {\n",
       "        vertical-align: middle;\n",
       "    }\n",
       "\n",
       "    .dataframe tbody tr th {\n",
       "        vertical-align: top;\n",
       "    }\n",
       "\n",
       "    .dataframe thead th {\n",
       "        text-align: right;\n",
       "    }\n",
       "</style>\n",
       "<table border=\"1\" class=\"dataframe\">\n",
       "  <thead>\n",
       "    <tr style=\"text-align: right;\">\n",
       "      <th></th>\n",
       "      <th>crimes</th>\n",
       "      <th>accused</th>\n",
       "      <th>adm</th>\n",
       "      <th>civils</th>\n",
       "      <th>fires</th>\n",
       "    </tr>\n",
       "    <tr>\n",
       "      <th>year</th>\n",
       "      <th></th>\n",
       "      <th></th>\n",
       "      <th></th>\n",
       "      <th></th>\n",
       "      <th></th>\n",
       "    </tr>\n",
       "  </thead>\n",
       "  <tbody>\n",
       "    <tr>\n",
       "      <th>1990</th>\n",
       "      <td>369809.0</td>\n",
       "      <td>104199.0</td>\n",
       "      <td>6515.90</td>\n",
       "      <td>379.20</td>\n",
       "      <td>NaN</td>\n",
       "    </tr>\n",
       "    <tr>\n",
       "      <th>1991</th>\n",
       "      <td>405516.0</td>\n",
       "      <td>108553.0</td>\n",
       "      <td>7841.50</td>\n",
       "      <td>358.50</td>\n",
       "      <td>NaN</td>\n",
       "    </tr>\n",
       "    <tr>\n",
       "      <th>1992</th>\n",
       "      <td>480478.0</td>\n",
       "      <td>115260.0</td>\n",
       "      <td>9723.90</td>\n",
       "      <td>364.00</td>\n",
       "      <td>NaN</td>\n",
       "    </tr>\n",
       "    <tr>\n",
       "      <th>...</th>\n",
       "      <td>...</td>\n",
       "      <td>...</td>\n",
       "      <td>...</td>\n",
       "      <td>...</td>\n",
       "      <td>...</td>\n",
       "    </tr>\n",
       "    <tr>\n",
       "      <th>2015</th>\n",
       "      <td>5651827.0</td>\n",
       "      <td>947986.0</td>\n",
       "      <td>1984.66</td>\n",
       "      <td>947.26</td>\n",
       "      <td>820166.0</td>\n",
       "    </tr>\n",
       "    <tr>\n",
       "      <th>2016</th>\n",
       "      <td>5926047.0</td>\n",
       "      <td>762176.0</td>\n",
       "      <td>2183.66</td>\n",
       "      <td>751.26</td>\n",
       "      <td>753236.0</td>\n",
       "    </tr>\n",
       "    <tr>\n",
       "      <th>2017</th>\n",
       "      <td>5239117.0</td>\n",
       "      <td>768046.0</td>\n",
       "      <td>2885.36</td>\n",
       "      <td>729.96</td>\n",
       "      <td>857246.0</td>\n",
       "    </tr>\n",
       "  </tbody>\n",
       "</table>\n",
       "<p>28 rows × 5 columns</p>\n",
       "</div>"
      ],
      "text/plain": [
       "         crimes   accused      adm  civils     fires\n",
       "year                                                \n",
       "1990   369809.0  104199.0  6515.90  379.20       NaN\n",
       "1991   405516.0  108553.0  7841.50  358.50       NaN\n",
       "1992   480478.0  115260.0  9723.90  364.00       NaN\n",
       "...         ...       ...      ...     ...       ...\n",
       "2015  5651827.0  947986.0  1984.66  947.26  820166.0\n",
       "2016  5926047.0  762176.0  2183.66  751.26  753236.0\n",
       "2017  5239117.0  768046.0  2885.36  729.96  857246.0\n",
       "\n",
       "[28 rows x 5 columns]"
      ]
     },
     "execution_count": 2,
     "metadata": {},
     "output_type": "execute_result"
    }
   ],
   "source": [
    "import pandas as pd\n",
    "import numpy as np\n",
    "import matplotlib.pyplot as plt\n",
    "\n",
    "pd.options.display.max_colwidth = 60\n",
    "pd.options.display.max_rows = 7\n",
    "pd.options.display.max_columns = 7\n",
    "pd.options.display.width = 600\n",
    "\n",
    "path_criminal_statistic = 'data/90-2002_.xlsx' \n",
    "df = pd.read_excel(path_criminal_statistic)\n",
    "df.columns = [\n",
    "    'year', 'crimes', 'accused', 'adm', 'civils', 'fires']\n",
    "df = df.set_index('year')\n",
    "obj_cols = df.select_dtypes(['object'])\n",
    "df[obj_cols.columns] = obj_cols.apply(lambda x: x.str.replace(' ', ''))\n",
    "df = df.astype(str).apply(\n",
    "    lambda x: x.str.replace(',', '.')).astype(float)\n",
    "df"
   ]
  },
  {
   "attachments": {},
   "cell_type": "markdown",
   "metadata": {},
   "source": [
    "*Завантажений датафрейм*"
   ]
  },
  {
   "attachments": {},
   "cell_type": "markdown",
   "metadata": {},
   "source": [
    "## 3.2 Знайти математичне сподівання, медіану, моду, дисперсію, середньоквадратичне відхилення"
   ]
  },
  {
   "attachments": {},
   "cell_type": "markdown",
   "metadata": {},
   "source": [
    "### Математичне сподівання – сума всіх значень, поділена на їхню кількість."
   ]
  },
  {
   "cell_type": "code",
   "execution_count": 3,
   "metadata": {},
   "outputs": [
    {
     "data": {
      "text/plain": [
       "crimes     1.368354e+06\n",
       "accused    2.760651e+05\n",
       "adm        8.531505e+03\n",
       "civils     9.917086e+02\n",
       "fires      1.775765e+05\n",
       "dtype: float64"
      ]
     },
     "execution_count": 3,
     "metadata": {},
     "output_type": "execute_result"
    }
   ],
   "source": [
    "df.mean()"
   ]
  },
  {
   "attachments": {},
   "cell_type": "markdown",
   "metadata": {},
   "source": [
    "*Математичне сподівання*"
   ]
  },
  {
   "attachments": {},
   "cell_type": "markdown",
   "metadata": {},
   "source": [
    "### Медіана – це середина відсортованого набору даних."
   ]
  },
  {
   "cell_type": "code",
   "execution_count": 4,
   "metadata": {},
   "outputs": [
    {
     "data": {
      "text/plain": [
       "crimes     549007.50\n",
       "accused    185573.00\n",
       "adm          7759.70\n",
       "civils        963.91\n",
       "fires       49838.00\n",
       "dtype: float64"
      ]
     },
     "execution_count": 4,
     "metadata": {},
     "output_type": "execute_result"
    }
   ],
   "source": [
    "df.median()"
   ]
  },
  {
   "attachments": {},
   "cell_type": "markdown",
   "metadata": {},
   "source": [
    "*Медіана*"
   ]
  },
  {
   "attachments": {},
   "cell_type": "markdown",
   "metadata": {},
   "source": [
    "### Мода – це найчастіше значення, що зустрічається."
   ]
  },
  {
   "cell_type": "code",
   "execution_count": 5,
   "metadata": {},
   "outputs": [
    {
     "data": {
      "text/html": [
       "<div>\n",
       "<style scoped>\n",
       "    .dataframe tbody tr th:only-of-type {\n",
       "        vertical-align: middle;\n",
       "    }\n",
       "\n",
       "    .dataframe tbody tr th {\n",
       "        vertical-align: top;\n",
       "    }\n",
       "\n",
       "    .dataframe thead th {\n",
       "        text-align: right;\n",
       "    }\n",
       "</style>\n",
       "<table border=\"1\" class=\"dataframe\">\n",
       "  <thead>\n",
       "    <tr style=\"text-align: right;\">\n",
       "      <th></th>\n",
       "      <th>crimes</th>\n",
       "      <th>accused</th>\n",
       "      <th>adm</th>\n",
       "      <th>civils</th>\n",
       "      <th>fires</th>\n",
       "    </tr>\n",
       "  </thead>\n",
       "  <tbody>\n",
       "    <tr>\n",
       "      <th>0</th>\n",
       "      <td>369809.0</td>\n",
       "      <td>104199.0</td>\n",
       "      <td>1984.66</td>\n",
       "      <td>358.5</td>\n",
       "      <td>36814.0</td>\n",
       "    </tr>\n",
       "    <tr>\n",
       "      <th>1</th>\n",
       "      <td>390162.0</td>\n",
       "      <td>108553.0</td>\n",
       "      <td>2183.66</td>\n",
       "      <td>364.0</td>\n",
       "      <td>37596.0</td>\n",
       "    </tr>\n",
       "    <tr>\n",
       "      <th>2</th>\n",
       "      <td>405516.0</td>\n",
       "      <td>115260.0</td>\n",
       "      <td>2657.06</td>\n",
       "      <td>379.2</td>\n",
       "      <td>40237.0</td>\n",
       "    </tr>\n",
       "    <tr>\n",
       "      <th>...</th>\n",
       "      <td>...</td>\n",
       "      <td>...</td>\n",
       "      <td>...</td>\n",
       "      <td>...</td>\n",
       "      <td>...</td>\n",
       "    </tr>\n",
       "    <tr>\n",
       "      <th>25</th>\n",
       "      <td>5291395.0</td>\n",
       "      <td>768046.0</td>\n",
       "      <td>14950.90</td>\n",
       "      <td>1593.8</td>\n",
       "      <td>NaN</td>\n",
       "    </tr>\n",
       "    <tr>\n",
       "      <th>26</th>\n",
       "      <td>5651827.0</td>\n",
       "      <td>947986.0</td>\n",
       "      <td>15997.70</td>\n",
       "      <td>1680.2</td>\n",
       "      <td>NaN</td>\n",
       "    </tr>\n",
       "    <tr>\n",
       "      <th>27</th>\n",
       "      <td>5926047.0</td>\n",
       "      <td>1021706.0</td>\n",
       "      <td>22400.60</td>\n",
       "      <td>2193.3</td>\n",
       "      <td>NaN</td>\n",
       "    </tr>\n",
       "  </tbody>\n",
       "</table>\n",
       "<p>28 rows × 5 columns</p>\n",
       "</div>"
      ],
      "text/plain": [
       "       crimes    accused       adm  civils    fires\n",
       "0    369809.0   104199.0   1984.66   358.5  36814.0\n",
       "1    390162.0   108553.0   2183.66   364.0  37596.0\n",
       "2    405516.0   115260.0   2657.06   379.2  40237.0\n",
       "..        ...        ...       ...     ...      ...\n",
       "25  5291395.0   768046.0  14950.90  1593.8      NaN\n",
       "26  5651827.0   947986.0  15997.70  1680.2      NaN\n",
       "27  5926047.0  1021706.0  22400.60  2193.3      NaN\n",
       "\n",
       "[28 rows x 5 columns]"
      ]
     },
     "execution_count": 5,
     "metadata": {},
     "output_type": "execute_result"
    }
   ],
   "source": [
    "df.mode()"
   ]
  },
  {
   "attachments": {},
   "cell_type": "markdown",
   "metadata": {},
   "source": [
    "*Мода*"
   ]
  },
  {
   "attachments": {},
   "cell_type": "markdown",
   "metadata": {},
   "source": [
    "### Дисперсія – це середнє арифметичне квадратів різниці кожного значення з математичним сподіванням."
   ]
  },
  {
   "cell_type": "code",
   "execution_count": 6,
   "metadata": {},
   "outputs": [
    {
     "data": {
      "text/plain": [
       "crimes     3.562555e+12\n",
       "accused    6.538051e+10\n",
       "adm        2.123088e+07\n",
       "civils     2.290414e+05\n",
       "fires      8.168601e+10\n",
       "dtype: float64"
      ]
     },
     "execution_count": 6,
     "metadata": {},
     "output_type": "execute_result"
    }
   ],
   "source": [
    "df.var()"
   ]
  },
  {
   "attachments": {},
   "cell_type": "markdown",
   "metadata": {},
   "source": [
    "*Дисперсія*"
   ]
  },
  {
   "attachments": {},
   "cell_type": "markdown",
   "metadata": {},
   "source": [
    "### Середньоквадратичне відхилення – це дисперсія під коренем"
   ]
  },
  {
   "cell_type": "code",
   "execution_count": 7,
   "metadata": {},
   "outputs": [
    {
     "data": {
      "text/plain": [
       "crimes     1.887473e+06\n",
       "accused    2.556961e+05\n",
       "adm        4.607698e+03\n",
       "civils     4.785827e+02\n",
       "fires      2.858076e+05\n",
       "dtype: float64"
      ]
     },
     "execution_count": 7,
     "metadata": {},
     "output_type": "execute_result"
    }
   ],
   "source": [
    "df.var() ** 0.5"
   ]
  },
  {
   "attachments": {},
   "cell_type": "markdown",
   "metadata": {},
   "source": [
    "*Середньоквадратичне відхилення*"
   ]
  },
  {
   "attachments": {},
   "cell_type": "markdown",
   "metadata": {},
   "source": [
    "## 3.3 Візуалізувати завантажені дані за допомогою гістограми"
   ]
  },
  {
   "attachments": {},
   "cell_type": "markdown",
   "metadata": {},
   "source": [
    "### Візуалізуємо дані за допомогою методу plot та оберемо тип \"bar\" для відображення гістограми."
   ]
  },
  {
   "cell_type": "code",
   "execution_count": 8,
   "metadata": {},
   "outputs": [
    {
     "data": {
      "text/plain": [
       "<AxesSubplot: xlabel='year'>"
      ]
     },
     "execution_count": 8,
     "metadata": {},
     "output_type": "execute_result"
    },
    {
     "data": {
      "image/png": "[encoded data removed]",
      "text/plain": [
       "<Figure size 800x500 with 1 Axes>"
      ]
     },
     "metadata": {},
     "output_type": "display_data"
    }
   ],
   "source": [
    "df.plot(kind='bar', figsize=(8, 5), width=4)"
   ]
  },
  {
   "attachments": {},
   "cell_type": "markdown",
   "metadata": {},
   "source": [
    "*Статистика злочинів*"
   ]
  },
  {
   "attachments": {},
   "cell_type": "markdown",
   "metadata": {},
   "source": [
    "## 3.4 Проробити всі дії з пункту про Series та DataFrame"
   ]
  },
  {
   "attachments": {},
   "cell_type": "markdown",
   "metadata": {},
   "source": [
    "### Створюємо Series зі значеннями кількості злочинів на рік."
   ]
  },
  {
   "cell_type": "code",
   "execution_count": 9,
   "metadata": {},
   "outputs": [
    {
     "data": {
      "text/plain": [
       "0      369809.0\n",
       "1      405516.0\n",
       "2      480478.0\n",
       "        ...    \n",
       "25    5651827.0\n",
       "26    5926047.0\n",
       "27    5239117.0\n",
       "Length: 28, dtype: float64"
      ]
     },
     "execution_count": 9,
     "metadata": {},
     "output_type": "execute_result"
    }
   ],
   "source": [
    "\n",
    "crimes = pd.Series([ 369809.,  405516.,  480478.,  539299.,  572147.,  641860.,\n",
    "        617262.,  589208.,  575982.,  558716.,  567795.,  514597.,\n",
    "        460389.,  566350.,  527812.,  491754.,  428149.,  408170.,\n",
    "        390162.,  439459.,  505371.,  520218., 4471474.,  563560.,\n",
    "       5291395., 5651827., 5926047., 5239117.])\n",
    "crimes"
   ]
  },
  {
   "attachments": {},
   "cell_type": "markdown",
   "metadata": {},
   "source": [
    "*Кількість злочинів на рік*"
   ]
  },
  {
   "attachments": {},
   "cell_type": "markdown",
   "metadata": {},
   "source": [
    "### Отримуємо другий запис."
   ]
  },
  {
   "cell_type": "code",
   "execution_count": 10,
   "metadata": {},
   "outputs": [
    {
     "data": {
      "text/plain": [
       "405516.0"
      ]
     },
     "execution_count": 10,
     "metadata": {},
     "output_type": "execute_result"
    }
   ],
   "source": [
    "crimes[1]"
   ]
  },
  {
   "attachments": {},
   "cell_type": "markdown",
   "metadata": {},
   "source": [
    "*Другий запис*"
   ]
  },
  {
   "attachments": {},
   "cell_type": "markdown",
   "metadata": {},
   "source": [
    "### Рахуємо кількість записів."
   ]
  },
  {
   "cell_type": "code",
   "execution_count": 11,
   "metadata": {},
   "outputs": [
    {
     "data": {
      "text/plain": [
       "28"
      ]
     },
     "execution_count": 11,
     "metadata": {},
     "output_type": "execute_result"
    }
   ],
   "source": [
    "crimes.count()"
   ]
  },
  {
   "attachments": {},
   "cell_type": "markdown",
   "metadata": {},
   "source": [
    "*Кількість записів*"
   ]
  },
  {
   "attachments": {},
   "cell_type": "markdown",
   "metadata": {},
   "source": [
    "### Рахуємо математичне сподівання"
   ]
  },
  {
   "cell_type": "code",
   "execution_count": 12,
   "metadata": {},
   "outputs": [
    {
     "data": {
      "text/plain": [
       "1368354.392857143"
      ]
     },
     "execution_count": 12,
     "metadata": {},
     "output_type": "execute_result"
    }
   ],
   "source": [
    "crimes.mean()"
   ]
  },
  {
   "attachments": {},
   "cell_type": "markdown",
   "metadata": {},
   "source": [
    "*Математичне сподівання*"
   ]
  },
  {
   "attachments": {},
   "cell_type": "markdown",
   "metadata": {},
   "source": [
    "### Рахуємо найменше значення"
   ]
  },
  {
   "cell_type": "code",
   "execution_count": 13,
   "metadata": {},
   "outputs": [
    {
     "data": {
      "text/plain": [
       "369809.0"
      ]
     },
     "execution_count": 13,
     "metadata": {},
     "output_type": "execute_result"
    }
   ],
   "source": [
    "crimes.min()"
   ]
  },
  {
   "attachments": {},
   "cell_type": "markdown",
   "metadata": {},
   "source": [
    "*Найменше значення*"
   ]
  },
  {
   "attachments": {},
   "cell_type": "markdown",
   "metadata": {},
   "source": [
    "### Рахуємо найбільше значення"
   ]
  },
  {
   "cell_type": "code",
   "execution_count": 14,
   "metadata": {},
   "outputs": [
    {
     "data": {
      "text/plain": [
       "5926047.0"
      ]
     },
     "execution_count": 14,
     "metadata": {},
     "output_type": "execute_result"
    }
   ],
   "source": [
    "crimes.max()"
   ]
  },
  {
   "attachments": {},
   "cell_type": "markdown",
   "metadata": {},
   "source": [
    "*Найбільше значення*"
   ]
  },
  {
   "attachments": {},
   "cell_type": "markdown",
   "metadata": {},
   "source": [
    "### Рахуємо середньоквадратичне відхилення"
   ]
  },
  {
   "cell_type": "code",
   "execution_count": 15,
   "metadata": {},
   "outputs": [
    {
     "data": {
      "text/plain": [
       "1887473.2573186466"
      ]
     },
     "execution_count": 15,
     "metadata": {},
     "output_type": "execute_result"
    }
   ],
   "source": [
    "crimes.std()"
   ]
  },
  {
   "attachments": {},
   "cell_type": "markdown",
   "metadata": {},
   "source": [
    "*Cередньоквадратичне відхилення*"
   ]
  },
  {
   "attachments": {},
   "cell_type": "markdown",
   "metadata": {},
   "source": [
    "### Отримуємо статистику набору даних (кількість, математичне сподівання, середньоквадратичне відхилення, найменше та найбільше значення, квантилі)"
   ]
  },
  {
   "cell_type": "code",
   "execution_count": 16,
   "metadata": {},
   "outputs": [
    {
     "data": {
      "text/html": [
       "<div>\n",
       "<style scoped>\n",
       "    .dataframe tbody tr th:only-of-type {\n",
       "        vertical-align: middle;\n",
       "    }\n",
       "\n",
       "    .dataframe tbody tr th {\n",
       "        vertical-align: top;\n",
       "    }\n",
       "\n",
       "    .dataframe thead th {\n",
       "        text-align: right;\n",
       "    }\n",
       "</style>\n",
       "<table border=\"1\" class=\"dataframe\">\n",
       "  <thead>\n",
       "    <tr style=\"text-align: right;\">\n",
       "      <th></th>\n",
       "      <th>crimes</th>\n",
       "      <th>accused</th>\n",
       "      <th>adm</th>\n",
       "      <th>civils</th>\n",
       "      <th>fires</th>\n",
       "    </tr>\n",
       "  </thead>\n",
       "  <tbody>\n",
       "    <tr>\n",
       "      <th>count</th>\n",
       "      <td>2.800000e+01</td>\n",
       "      <td>2.800000e+01</td>\n",
       "      <td>28.000000</td>\n",
       "      <td>28.000000</td>\n",
       "      <td>23.000000</td>\n",
       "    </tr>\n",
       "    <tr>\n",
       "      <th>mean</th>\n",
       "      <td>1.368354e+06</td>\n",
       "      <td>2.760651e+05</td>\n",
       "      <td>8531.505000</td>\n",
       "      <td>991.708571</td>\n",
       "      <td>177576.521739</td>\n",
       "    </tr>\n",
       "    <tr>\n",
       "      <th>std</th>\n",
       "      <td>1.887473e+06</td>\n",
       "      <td>2.556961e+05</td>\n",
       "      <td>4607.697643</td>\n",
       "      <td>478.582688</td>\n",
       "      <td>285807.644386</td>\n",
       "    </tr>\n",
       "    <tr>\n",
       "      <th>...</th>\n",
       "      <td>...</td>\n",
       "      <td>...</td>\n",
       "      <td>...</td>\n",
       "      <td>...</td>\n",
       "      <td>...</td>\n",
       "    </tr>\n",
       "    <tr>\n",
       "      <th>50%</th>\n",
       "      <td>5.490075e+05</td>\n",
       "      <td>1.855730e+05</td>\n",
       "      <td>7759.700000</td>\n",
       "      <td>963.910000</td>\n",
       "      <td>49838.000000</td>\n",
       "    </tr>\n",
       "    <tr>\n",
       "      <th>75%</th>\n",
       "      <td>5.962215e+05</td>\n",
       "      <td>2.313268e+05</td>\n",
       "      <td>10041.675000</td>\n",
       "      <td>1289.225000</td>\n",
       "      <td>63733.500000</td>\n",
       "    </tr>\n",
       "    <tr>\n",
       "      <th>max</th>\n",
       "      <td>5.926047e+06</td>\n",
       "      <td>1.021706e+06</td>\n",
       "      <td>22400.600000</td>\n",
       "      <td>2193.300000</td>\n",
       "      <td>857246.000000</td>\n",
       "    </tr>\n",
       "  </tbody>\n",
       "</table>\n",
       "<p>8 rows × 5 columns</p>\n",
       "</div>"
      ],
      "text/plain": [
       "             crimes       accused           adm       civils          fires\n",
       "count  2.800000e+01  2.800000e+01     28.000000    28.000000      23.000000\n",
       "mean   1.368354e+06  2.760651e+05   8531.505000   991.708571  177576.521739\n",
       "std    1.887473e+06  2.556961e+05   4607.697643   478.582688  285807.644386\n",
       "...             ...           ...           ...          ...            ...\n",
       "50%    5.490075e+05  1.855730e+05   7759.700000   963.910000   49838.000000\n",
       "75%    5.962215e+05  2.313268e+05  10041.675000  1289.225000   63733.500000\n",
       "max    5.926047e+06  1.021706e+06  22400.600000  2193.300000  857246.000000\n",
       "\n",
       "[8 rows x 5 columns]"
      ]
     },
     "execution_count": 16,
     "metadata": {},
     "output_type": "execute_result"
    }
   ],
   "source": [
    "df.describe()"
   ]
  },
  {
   "attachments": {},
   "cell_type": "markdown",
   "metadata": {},
   "source": [
    "*Cтатистика набору даних*"
   ]
  },
  {
   "attachments": {},
   "cell_type": "markdown",
   "metadata": {},
   "source": [
    "### Створення Series зі словника, де ключі - роки, значення - кількість злочинів"
   ]
  },
  {
   "cell_type": "code",
   "execution_count": 17,
   "metadata": {},
   "outputs": [
    {
     "data": {
      "text/plain": [
       "1990     369809.0\n",
       "1991     405516.0\n",
       "1992     480478.0\n",
       "          ...    \n",
       "2015    5651827.0\n",
       "2016    5926047.0\n",
       "2017    5239117.0\n",
       "Length: 28, dtype: float64"
      ]
     },
     "execution_count": 17,
     "metadata": {},
     "output_type": "execute_result"
    }
   ],
   "source": [
    "crimes = pd.Series(\n",
    "    {\n",
    "        1990: 369809.0,\n",
    "        1991: 405516.0,\n",
    "        1992: 480478.0,\n",
    "        1993: 539299.0,\n",
    "        1994: 572147.0,\n",
    "        1995: 641860.0,\n",
    "        1996: 617262.0,\n",
    "        1997: 589208.0,\n",
    "        1998: 575982.0,\n",
    "        1999: 558716.0,\n",
    "        2000: 567795.0,\n",
    "        2001: 514597.0,\n",
    "        2002: 460389.0,\n",
    "        2003: 566350.0,\n",
    "        2004: 527812.0,\n",
    "        2005: 491754.0,\n",
    "        2006: 428149.0,\n",
    "        2007: 408170.0,\n",
    "        2008: 390162.0,\n",
    "        2009: 439459.0,\n",
    "        2010: 505371.0,\n",
    "        2011: 520218.0,\n",
    "        2012: 4471474.0,\n",
    "        2013: 563560.0,\n",
    "        2014: 5291395.0,\n",
    "        2015: 5651827.0,\n",
    "        2016: 5926047.0,\n",
    "        2017: 5239117.0\n",
    "    }\n",
    ")\n",
    "crimes"
   ]
  },
  {
   "attachments": {},
   "cell_type": "markdown",
   "metadata": {},
   "source": [
    "*Series зі словника*"
   ]
  },
  {
   "attachments": {},
   "cell_type": "markdown",
   "metadata": {},
   "source": [
    "### Отримуємо кількість злочинів за 1992 рік"
   ]
  },
  {
   "cell_type": "code",
   "execution_count": 18,
   "metadata": {},
   "outputs": [
    {
     "data": {
      "text/plain": [
       "480478.0"
      ]
     },
     "execution_count": 18,
     "metadata": {},
     "output_type": "execute_result"
    }
   ],
   "source": [
    "crimes[1992]"
   ]
  },
  {
   "attachments": {},
   "cell_type": "markdown",
   "metadata": {},
   "source": [
    "*Кількість злочинів за 1992 рік*"
   ]
  },
  {
   "attachments": {},
   "cell_type": "markdown",
   "metadata": {},
   "source": [
    "### Отримуємо тип даних"
   ]
  },
  {
   "cell_type": "code",
   "execution_count": 19,
   "metadata": {},
   "outputs": [
    {
     "data": {
      "text/plain": [
       "dtype('float64')"
      ]
     },
     "execution_count": 19,
     "metadata": {},
     "output_type": "execute_result"
    }
   ],
   "source": [
    "crimes.dtype"
   ]
  },
  {
   "attachments": {},
   "cell_type": "markdown",
   "metadata": {},
   "source": [
    "*Тип даних*"
   ]
  },
  {
   "attachments": {},
   "cell_type": "markdown",
   "metadata": {},
   "source": [
    "### Отримуємо значення набору даних"
   ]
  },
  {
   "cell_type": "code",
   "execution_count": 20,
   "metadata": {},
   "outputs": [
    {
     "data": {
      "text/plain": [
       "array([ 369809.,  405516.,  480478.,  539299.,  572147.,  641860.,\n",
       "        617262.,  589208.,  575982.,  558716.,  567795.,  514597.,\n",
       "        460389.,  566350.,  527812.,  491754.,  428149.,  408170.,\n",
       "        390162.,  439459.,  505371.,  520218., 4471474.,  563560.,\n",
       "       5291395., 5651827., 5926047., 5239117.])"
      ]
     },
     "execution_count": 20,
     "metadata": {},
     "output_type": "execute_result"
    }
   ],
   "source": [
    "crimes.values"
   ]
  },
  {
   "attachments": {},
   "cell_type": "markdown",
   "metadata": {},
   "source": [
    "*Значення набору даних*"
   ]
  },
  {
   "attachments": {},
   "cell_type": "markdown",
   "metadata": {},
   "source": [
    "### Створення DataFrame зі словника"
   ]
  },
  {
   "cell_type": "code",
   "execution_count": 21,
   "metadata": {},
   "outputs": [
    {
     "data": {
      "text/html": [
       "<div>\n",
       "<style scoped>\n",
       "    .dataframe tbody tr th:only-of-type {\n",
       "        vertical-align: middle;\n",
       "    }\n",
       "\n",
       "    .dataframe tbody tr th {\n",
       "        vertical-align: top;\n",
       "    }\n",
       "\n",
       "    .dataframe thead th {\n",
       "        text-align: right;\n",
       "    }\n",
       "</style>\n",
       "<table border=\"1\" class=\"dataframe\">\n",
       "  <thead>\n",
       "    <tr style=\"text-align: right;\">\n",
       "      <th></th>\n",
       "      <th>0</th>\n",
       "      <th>1</th>\n",
       "      <th>2</th>\n",
       "      <th>3</th>\n",
       "      <th>4</th>\n",
       "    </tr>\n",
       "  </thead>\n",
       "  <tbody>\n",
       "    <tr>\n",
       "      <th>1990</th>\n",
       "      <td>369809.0</td>\n",
       "      <td>104199.0</td>\n",
       "      <td>6515.90</td>\n",
       "      <td>379.20</td>\n",
       "      <td>NaN</td>\n",
       "    </tr>\n",
       "    <tr>\n",
       "      <th>1991</th>\n",
       "      <td>405516.0</td>\n",
       "      <td>108553.0</td>\n",
       "      <td>7841.50</td>\n",
       "      <td>358.50</td>\n",
       "      <td>NaN</td>\n",
       "    </tr>\n",
       "    <tr>\n",
       "      <th>1992</th>\n",
       "      <td>480478.0</td>\n",
       "      <td>115260.0</td>\n",
       "      <td>9723.90</td>\n",
       "      <td>364.00</td>\n",
       "      <td>NaN</td>\n",
       "    </tr>\n",
       "    <tr>\n",
       "      <th>...</th>\n",
       "      <td>...</td>\n",
       "      <td>...</td>\n",
       "      <td>...</td>\n",
       "      <td>...</td>\n",
       "      <td>...</td>\n",
       "    </tr>\n",
       "    <tr>\n",
       "      <th>2015</th>\n",
       "      <td>5651827.0</td>\n",
       "      <td>947986.0</td>\n",
       "      <td>1984.66</td>\n",
       "      <td>947.26</td>\n",
       "      <td>820166.0</td>\n",
       "    </tr>\n",
       "    <tr>\n",
       "      <th>2016</th>\n",
       "      <td>5926047.0</td>\n",
       "      <td>762176.0</td>\n",
       "      <td>2183.66</td>\n",
       "      <td>751.26</td>\n",
       "      <td>753236.0</td>\n",
       "    </tr>\n",
       "    <tr>\n",
       "      <th>2017</th>\n",
       "      <td>5239117.0</td>\n",
       "      <td>768046.0</td>\n",
       "      <td>2885.36</td>\n",
       "      <td>729.96</td>\n",
       "      <td>857246.0</td>\n",
       "    </tr>\n",
       "  </tbody>\n",
       "</table>\n",
       "<p>28 rows × 5 columns</p>\n",
       "</div>"
      ],
      "text/plain": [
       "              0         1        2       3         4\n",
       "1990   369809.0  104199.0  6515.90  379.20       NaN\n",
       "1991   405516.0  108553.0  7841.50  358.50       NaN\n",
       "1992   480478.0  115260.0  9723.90  364.00       NaN\n",
       "...         ...       ...      ...     ...       ...\n",
       "2015  5651827.0  947986.0  1984.66  947.26  820166.0\n",
       "2016  5926047.0  762176.0  2183.66  751.26  753236.0\n",
       "2017  5239117.0  768046.0  2885.36  729.96  857246.0\n",
       "\n",
       "[28 rows x 5 columns]"
      ]
     },
     "execution_count": 21,
     "metadata": {},
     "output_type": "execute_result"
    }
   ],
   "source": [
    "dd = pd.DataFrame(\n",
    "  {\n",
    "    1990: [369809.0, 104199.0, 6515.9, 379.2, float('nan')],\n",
    "    1991: [405516.0, 108553.0, 7841.5, 358.5, float('nan')],\n",
    "    1992: [480478.0, 115260.0, 9723.9, 364.0, float('nan')],\n",
    "    1993: [539299.0, 152878.0, 11767.1, 407.7, float('nan')],\n",
    "    1994: [572147.0, 174959.0, 15997.7, 399.2, float('nan')],\n",
    "    1995: [641860.0, 212915.0, 22400.6, 453.3, 47875.0],\n",
    "    1996: [617262.0, 242124.0, 14950.9, 550.1, 46824.0],\n",
    "    1997: [589208.0, 237790.0, 14232.1, 599.8, 42507.0],\n",
    "    1998: [575982.0, 232598.0, 13330.7, 744.2, 41294.0],\n",
    "    1999: [558716.0, 222239.0, 10542.0, 772.6, 40237.0],\n",
    "    2000: [567795.0, 230903.0, 9395.4, 911.4, 37596.0],\n",
    "    2001: [514597.0, 202609.0, 6384.1, 1057.0, 36814.0],\n",
    "    2002: [460389.0, 194212.0, 6472.4, 1166.4, 41794.0],\n",
    "    2003: [566350.0, 201081.0, 7097.3, 1259.3, 40374.0],\n",
    "    2004: [527812.0, 204794.0, 7013.7, 1457.5, 49654.0],\n",
    "    2005: [491754.0, 176934.0, 6370.3, 1116.2, 53751.0],\n",
    "    2006: [428149.0, 160865.0, 7677.9, 1322.3, 51432.0],\n",
    "    2007: [408170.0, 152772.0, 8867.5, 1499.0, 55708.0],\n",
    "    2008: [390162.0, 146858.0, 9874.9, 1680.2, 49838.0],\n",
    "    2009: [439459.0, 146383.0, 8280.5, 1541.8, 48998.0],\n",
    "    2010: [505371.0, 168774.0, 8854.1, 2193.3, 64743.0],\n",
    "    2011: [520218.0, 154356.0, 6709.9, 1593.8, 62724.0],\n",
    "    2012: [4471474.0, 162881.0, 4621.1, 1278.2, 73405.0],\n",
    "    2013: [563560.0, 122973.0, 4249.9, 1253.8, 62118.0],\n",
    "    2014: [5291395.0, 1021706.0, 2657.06, 980.56, 705926.0],\n",
    "    2015: [5651827.0, 947986.0, 1984.66, 947.26, 820166.0],\n",
    "    2016: [5926047.0, 762176.0, 2183.66, 751.26, 753236.0],\n",
    "    2017: [5239117.0, 768046.0, 2885.36, 729.96, 857246.0]\n",
    "  }\n",
    ").T\n",
    "dd"
   ]
  },
  {
   "attachments": {},
   "cell_type": "markdown",
   "metadata": {},
   "source": [
    "*DataFrame зі словника*"
   ]
  },
  {
   "attachments": {},
   "cell_type": "markdown",
   "metadata": {},
   "source": [
    "### Отримаємо дані про злочини за роки незалежності, використовуючи стовпець"
   ]
  },
  {
   "cell_type": "code",
   "execution_count": 22,
   "metadata": {},
   "outputs": [
    {
     "data": {
      "text/plain": [
       "1990     369809.0\n",
       "1991     405516.0\n",
       "1992     480478.0\n",
       "          ...    \n",
       "2015    5651827.0\n",
       "2016    5926047.0\n",
       "2017    5239117.0\n",
       "Name: crimes, Length: 28, dtype: float64"
      ]
     },
     "execution_count": 22,
     "metadata": {},
     "output_type": "execute_result"
    }
   ],
   "source": [
    "dd.columns = ['crimes', 'accused', 'adm', 'civils', 'fires']\n",
    "dd.crimes"
   ]
  },
  {
   "attachments": {},
   "cell_type": "markdown",
   "metadata": {},
   "source": [
    "*Дані про злочини за роки незалежності*"
   ]
  },
  {
   "attachments": {},
   "cell_type": "markdown",
   "metadata": {},
   "source": [
    "### Отримаємо дані про злочини за 1992 рік, використовуючи явний індекс"
   ]
  },
  {
   "cell_type": "code",
   "execution_count": 23,
   "metadata": {},
   "outputs": [
    {
     "data": {
      "text/plain": [
       "crimes     480478.0\n",
       "accused    115260.0\n",
       "adm          9723.9\n",
       "civils        364.0\n",
       "fires           NaN\n",
       "Name: 1992, dtype: float64"
      ]
     },
     "execution_count": 23,
     "metadata": {},
     "output_type": "execute_result"
    }
   ],
   "source": [
    "dd.loc[1992]"
   ]
  },
  {
   "attachments": {},
   "cell_type": "markdown",
   "metadata": {},
   "source": [
    "*Дані про злочини за 1992 рік, використовуючи явний індекс*"
   ]
  },
  {
   "attachments": {},
   "cell_type": "markdown",
   "metadata": {},
   "source": [
    "### Отримаємо дані про злочини за 1992 рік, використовуючи неявний індекс"
   ]
  },
  {
   "cell_type": "code",
   "execution_count": 24,
   "metadata": {},
   "outputs": [
    {
     "data": {
      "text/plain": [
       "crimes     405516.0\n",
       "accused    108553.0\n",
       "adm          7841.5\n",
       "civils        358.5\n",
       "fires           NaN\n",
       "Name: 1991, dtype: float64"
      ]
     },
     "execution_count": 24,
     "metadata": {},
     "output_type": "execute_result"
    }
   ],
   "source": [
    "dd.iloc[1]"
   ]
  },
  {
   "attachments": {},
   "cell_type": "markdown",
   "metadata": {},
   "source": [
    "*Дані про злочини за 1992 рік, використовуючи неявний індекс*"
   ]
  },
  {
   "attachments": {},
   "cell_type": "markdown",
   "metadata": {},
   "source": [
    "###  Отримуємо дані про злочини з 1992 до 1995 для явних індексів, де для явних останній вказаний індекс включається"
   ]
  },
  {
   "cell_type": "code",
   "execution_count": 25,
   "metadata": {},
   "outputs": [
    {
     "data": {
      "text/html": [
       "<div>\n",
       "<style scoped>\n",
       "    .dataframe tbody tr th:only-of-type {\n",
       "        vertical-align: middle;\n",
       "    }\n",
       "\n",
       "    .dataframe tbody tr th {\n",
       "        vertical-align: top;\n",
       "    }\n",
       "\n",
       "    .dataframe thead th {\n",
       "        text-align: right;\n",
       "    }\n",
       "</style>\n",
       "<table border=\"1\" class=\"dataframe\">\n",
       "  <thead>\n",
       "    <tr style=\"text-align: right;\">\n",
       "      <th></th>\n",
       "      <th>crimes</th>\n",
       "      <th>accused</th>\n",
       "      <th>adm</th>\n",
       "      <th>civils</th>\n",
       "      <th>fires</th>\n",
       "    </tr>\n",
       "  </thead>\n",
       "  <tbody>\n",
       "    <tr>\n",
       "      <th>1992</th>\n",
       "      <td>480478.0</td>\n",
       "      <td>115260.0</td>\n",
       "      <td>9723.9</td>\n",
       "      <td>364.0</td>\n",
       "      <td>NaN</td>\n",
       "    </tr>\n",
       "    <tr>\n",
       "      <th>1993</th>\n",
       "      <td>539299.0</td>\n",
       "      <td>152878.0</td>\n",
       "      <td>11767.1</td>\n",
       "      <td>407.7</td>\n",
       "      <td>NaN</td>\n",
       "    </tr>\n",
       "    <tr>\n",
       "      <th>1994</th>\n",
       "      <td>572147.0</td>\n",
       "      <td>174959.0</td>\n",
       "      <td>15997.7</td>\n",
       "      <td>399.2</td>\n",
       "      <td>NaN</td>\n",
       "    </tr>\n",
       "    <tr>\n",
       "      <th>1995</th>\n",
       "      <td>641860.0</td>\n",
       "      <td>212915.0</td>\n",
       "      <td>22400.6</td>\n",
       "      <td>453.3</td>\n",
       "      <td>47875.0</td>\n",
       "    </tr>\n",
       "  </tbody>\n",
       "</table>\n",
       "</div>"
      ],
      "text/plain": [
       "        crimes   accused      adm  civils    fires\n",
       "1992  480478.0  115260.0   9723.9   364.0      NaN\n",
       "1993  539299.0  152878.0  11767.1   407.7      NaN\n",
       "1994  572147.0  174959.0  15997.7   399.2      NaN\n",
       "1995  641860.0  212915.0  22400.6   453.3  47875.0"
      ]
     },
     "execution_count": 25,
     "metadata": {},
     "output_type": "execute_result"
    }
   ],
   "source": [
    "dd.loc[1992:1995]"
   ]
  },
  {
   "attachments": {},
   "cell_type": "markdown",
   "metadata": {},
   "source": [
    "*Дані про злочини з 1992 до 1995 для явних індексів*"
   ]
  },
  {
   "attachments": {},
   "cell_type": "markdown",
   "metadata": {},
   "source": [
    "###  Отримуємо дані про злочини з 1992 до 1994 для НЕявних індексів, де для НЕявних останній вказаний індекс НЕ включається"
   ]
  },
  {
   "cell_type": "code",
   "execution_count": 26,
   "metadata": {},
   "outputs": [
    {
     "data": {
      "text/html": [
       "<div>\n",
       "<style scoped>\n",
       "    .dataframe tbody tr th:only-of-type {\n",
       "        vertical-align: middle;\n",
       "    }\n",
       "\n",
       "    .dataframe tbody tr th {\n",
       "        vertical-align: top;\n",
       "    }\n",
       "\n",
       "    .dataframe thead th {\n",
       "        text-align: right;\n",
       "    }\n",
       "</style>\n",
       "<table border=\"1\" class=\"dataframe\">\n",
       "  <thead>\n",
       "    <tr style=\"text-align: right;\">\n",
       "      <th></th>\n",
       "      <th>crimes</th>\n",
       "      <th>accused</th>\n",
       "      <th>adm</th>\n",
       "      <th>civils</th>\n",
       "      <th>fires</th>\n",
       "    </tr>\n",
       "  </thead>\n",
       "  <tbody>\n",
       "    <tr>\n",
       "      <th>1992</th>\n",
       "      <td>480478.0</td>\n",
       "      <td>115260.0</td>\n",
       "      <td>9723.9</td>\n",
       "      <td>364.0</td>\n",
       "      <td>NaN</td>\n",
       "    </tr>\n",
       "    <tr>\n",
       "      <th>1993</th>\n",
       "      <td>539299.0</td>\n",
       "      <td>152878.0</td>\n",
       "      <td>11767.1</td>\n",
       "      <td>407.7</td>\n",
       "      <td>NaN</td>\n",
       "    </tr>\n",
       "    <tr>\n",
       "      <th>1994</th>\n",
       "      <td>572147.0</td>\n",
       "      <td>174959.0</td>\n",
       "      <td>15997.7</td>\n",
       "      <td>399.2</td>\n",
       "      <td>NaN</td>\n",
       "    </tr>\n",
       "  </tbody>\n",
       "</table>\n",
       "</div>"
      ],
      "text/plain": [
       "        crimes   accused      adm  civils  fires\n",
       "1992  480478.0  115260.0   9723.9   364.0    NaN\n",
       "1993  539299.0  152878.0  11767.1   407.7    NaN\n",
       "1994  572147.0  174959.0  15997.7   399.2    NaN"
      ]
     },
     "execution_count": 26,
     "metadata": {},
     "output_type": "execute_result"
    }
   ],
   "source": [
    "dd.iloc[2:5]"
   ]
  },
  {
   "attachments": {},
   "cell_type": "markdown",
   "metadata": {},
   "source": [
    "*Дані про злочини з 1992 до 1995 для неявних індексів*"
   ]
  },
  {
   "attachments": {},
   "cell_type": "markdown",
   "metadata": {},
   "source": [
    "### Отримуємо дані про злочини з 1992 І з 1995 для явних індексів"
   ]
  },
  {
   "cell_type": "code",
   "execution_count": 27,
   "metadata": {},
   "outputs": [
    {
     "data": {
      "text/html": [
       "<div>\n",
       "<style scoped>\n",
       "    .dataframe tbody tr th:only-of-type {\n",
       "        vertical-align: middle;\n",
       "    }\n",
       "\n",
       "    .dataframe tbody tr th {\n",
       "        vertical-align: top;\n",
       "    }\n",
       "\n",
       "    .dataframe thead th {\n",
       "        text-align: right;\n",
       "    }\n",
       "</style>\n",
       "<table border=\"1\" class=\"dataframe\">\n",
       "  <thead>\n",
       "    <tr style=\"text-align: right;\">\n",
       "      <th></th>\n",
       "      <th>crimes</th>\n",
       "      <th>accused</th>\n",
       "      <th>adm</th>\n",
       "      <th>civils</th>\n",
       "      <th>fires</th>\n",
       "    </tr>\n",
       "  </thead>\n",
       "  <tbody>\n",
       "    <tr>\n",
       "      <th>1992</th>\n",
       "      <td>480478.0</td>\n",
       "      <td>115260.0</td>\n",
       "      <td>9723.9</td>\n",
       "      <td>364.0</td>\n",
       "      <td>NaN</td>\n",
       "    </tr>\n",
       "    <tr>\n",
       "      <th>1995</th>\n",
       "      <td>641860.0</td>\n",
       "      <td>212915.0</td>\n",
       "      <td>22400.6</td>\n",
       "      <td>453.3</td>\n",
       "      <td>47875.0</td>\n",
       "    </tr>\n",
       "  </tbody>\n",
       "</table>\n",
       "</div>"
      ],
      "text/plain": [
       "        crimes   accused      adm  civils    fires\n",
       "1992  480478.0  115260.0   9723.9   364.0      NaN\n",
       "1995  641860.0  212915.0  22400.6   453.3  47875.0"
      ]
     },
     "execution_count": 27,
     "metadata": {},
     "output_type": "execute_result"
    }
   ],
   "source": [
    "dd.loc[[1992, 1995]]"
   ]
  },
  {
   "attachments": {},
   "cell_type": "markdown",
   "metadata": {},
   "source": [
    "*Дані про злочини з 1992 І з 1995 для явних індексів*"
   ]
  },
  {
   "attachments": {},
   "cell_type": "markdown",
   "metadata": {},
   "source": [
    "### Отримуємо дані про злочини з 1992 І з 1995 для неявних індексів"
   ]
  },
  {
   "cell_type": "code",
   "execution_count": 28,
   "metadata": {},
   "outputs": [
    {
     "data": {
      "text/html": [
       "<div>\n",
       "<style scoped>\n",
       "    .dataframe tbody tr th:only-of-type {\n",
       "        vertical-align: middle;\n",
       "    }\n",
       "\n",
       "    .dataframe tbody tr th {\n",
       "        vertical-align: top;\n",
       "    }\n",
       "\n",
       "    .dataframe thead th {\n",
       "        text-align: right;\n",
       "    }\n",
       "</style>\n",
       "<table border=\"1\" class=\"dataframe\">\n",
       "  <thead>\n",
       "    <tr style=\"text-align: right;\">\n",
       "      <th></th>\n",
       "      <th>crimes</th>\n",
       "      <th>accused</th>\n",
       "      <th>adm</th>\n",
       "      <th>civils</th>\n",
       "      <th>fires</th>\n",
       "    </tr>\n",
       "  </thead>\n",
       "  <tbody>\n",
       "    <tr>\n",
       "      <th>1992</th>\n",
       "      <td>480478.0</td>\n",
       "      <td>115260.0</td>\n",
       "      <td>9723.9</td>\n",
       "      <td>364.0</td>\n",
       "      <td>NaN</td>\n",
       "    </tr>\n",
       "    <tr>\n",
       "      <th>1995</th>\n",
       "      <td>641860.0</td>\n",
       "      <td>212915.0</td>\n",
       "      <td>22400.6</td>\n",
       "      <td>453.3</td>\n",
       "      <td>47875.0</td>\n",
       "    </tr>\n",
       "  </tbody>\n",
       "</table>\n",
       "</div>"
      ],
      "text/plain": [
       "        crimes   accused      adm  civils    fires\n",
       "1992  480478.0  115260.0   9723.9   364.0      NaN\n",
       "1995  641860.0  212915.0  22400.6   453.3  47875.0"
      ]
     },
     "execution_count": 28,
     "metadata": {},
     "output_type": "execute_result"
    }
   ],
   "source": [
    "dd.iloc[[2, 5]]"
   ]
  },
  {
   "attachments": {},
   "cell_type": "markdown",
   "metadata": {},
   "source": [
    "*Дані про злочини з 1992 І з 1995 для неявних індексів*"
   ]
  },
  {
   "attachments": {},
   "cell_type": "markdown",
   "metadata": {},
   "source": [
    "### Отримуємо дані про злочини явних ідексів та стовпців"
   ]
  },
  {
   "cell_type": "code",
   "execution_count": 29,
   "metadata": {},
   "outputs": [
    {
     "data": {
      "text/html": [
       "<div>\n",
       "<style scoped>\n",
       "    .dataframe tbody tr th:only-of-type {\n",
       "        vertical-align: middle;\n",
       "    }\n",
       "\n",
       "    .dataframe tbody tr th {\n",
       "        vertical-align: top;\n",
       "    }\n",
       "\n",
       "    .dataframe thead th {\n",
       "        text-align: right;\n",
       "    }\n",
       "</style>\n",
       "<table border=\"1\" class=\"dataframe\">\n",
       "  <thead>\n",
       "    <tr style=\"text-align: right;\">\n",
       "      <th></th>\n",
       "      <th>crimes</th>\n",
       "      <th>accused</th>\n",
       "    </tr>\n",
       "  </thead>\n",
       "  <tbody>\n",
       "    <tr>\n",
       "      <th>1992</th>\n",
       "      <td>480478.0</td>\n",
       "      <td>115260.0</td>\n",
       "    </tr>\n",
       "    <tr>\n",
       "      <th>1993</th>\n",
       "      <td>539299.0</td>\n",
       "      <td>152878.0</td>\n",
       "    </tr>\n",
       "    <tr>\n",
       "      <th>1994</th>\n",
       "      <td>572147.0</td>\n",
       "      <td>174959.0</td>\n",
       "    </tr>\n",
       "    <tr>\n",
       "      <th>1995</th>\n",
       "      <td>641860.0</td>\n",
       "      <td>212915.0</td>\n",
       "    </tr>\n",
       "  </tbody>\n",
       "</table>\n",
       "</div>"
      ],
      "text/plain": [
       "        crimes   accused\n",
       "1992  480478.0  115260.0\n",
       "1993  539299.0  152878.0\n",
       "1994  572147.0  174959.0\n",
       "1995  641860.0  212915.0"
      ]
     },
     "execution_count": 29,
     "metadata": {},
     "output_type": "execute_result"
    }
   ],
   "source": [
    "dd.loc[1992:1995, 'crimes':'accused']"
   ]
  },
  {
   "attachments": {},
   "cell_type": "markdown",
   "metadata": {},
   "source": [
    "*Дані про злочини явних ідексів та стовпців*"
   ]
  },
  {
   "attachments": {},
   "cell_type": "markdown",
   "metadata": {},
   "source": [
    "### Отримуємо дані про злочини неявних ідексів та стовпців"
   ]
  },
  {
   "cell_type": "code",
   "execution_count": 30,
   "metadata": {},
   "outputs": [
    {
     "data": {
      "text/html": [
       "<div>\n",
       "<style scoped>\n",
       "    .dataframe tbody tr th:only-of-type {\n",
       "        vertical-align: middle;\n",
       "    }\n",
       "\n",
       "    .dataframe tbody tr th {\n",
       "        vertical-align: top;\n",
       "    }\n",
       "\n",
       "    .dataframe thead th {\n",
       "        text-align: right;\n",
       "    }\n",
       "</style>\n",
       "<table border=\"1\" class=\"dataframe\">\n",
       "  <thead>\n",
       "    <tr style=\"text-align: right;\">\n",
       "      <th></th>\n",
       "      <th>crimes</th>\n",
       "      <th>accused</th>\n",
       "    </tr>\n",
       "  </thead>\n",
       "  <tbody>\n",
       "    <tr>\n",
       "      <th>1992</th>\n",
       "      <td>480478.0</td>\n",
       "      <td>115260.0</td>\n",
       "    </tr>\n",
       "    <tr>\n",
       "      <th>1993</th>\n",
       "      <td>539299.0</td>\n",
       "      <td>152878.0</td>\n",
       "    </tr>\n",
       "    <tr>\n",
       "      <th>1994</th>\n",
       "      <td>572147.0</td>\n",
       "      <td>174959.0</td>\n",
       "    </tr>\n",
       "  </tbody>\n",
       "</table>\n",
       "</div>"
      ],
      "text/plain": [
       "        crimes   accused\n",
       "1992  480478.0  115260.0\n",
       "1993  539299.0  152878.0\n",
       "1994  572147.0  174959.0"
      ]
     },
     "execution_count": 30,
     "metadata": {},
     "output_type": "execute_result"
    }
   ],
   "source": [
    "dd.iloc[2:5, 0:2]"
   ]
  },
  {
   "attachments": {},
   "cell_type": "markdown",
   "metadata": {},
   "source": [
    "*Дані про злочини неявних ідексів та стовпців*"
   ]
  },
  {
   "attachments": {},
   "cell_type": "markdown",
   "metadata": {},
   "source": [
    "### Відображаємо рядки, де кількість злочинів > 550 000"
   ]
  },
  {
   "cell_type": "code",
   "execution_count": 31,
   "metadata": {},
   "outputs": [
    {
     "data": {
      "text/html": [
       "<div>\n",
       "<style scoped>\n",
       "    .dataframe tbody tr th:only-of-type {\n",
       "        vertical-align: middle;\n",
       "    }\n",
       "\n",
       "    .dataframe tbody tr th {\n",
       "        vertical-align: top;\n",
       "    }\n",
       "\n",
       "    .dataframe thead th {\n",
       "        text-align: right;\n",
       "    }\n",
       "</style>\n",
       "<table border=\"1\" class=\"dataframe\">\n",
       "  <thead>\n",
       "    <tr style=\"text-align: right;\">\n",
       "      <th></th>\n",
       "      <th>crimes</th>\n",
       "      <th>accused</th>\n",
       "      <th>adm</th>\n",
       "      <th>civils</th>\n",
       "      <th>fires</th>\n",
       "    </tr>\n",
       "  </thead>\n",
       "  <tbody>\n",
       "    <tr>\n",
       "      <th>1994</th>\n",
       "      <td>572147.0</td>\n",
       "      <td>174959.0</td>\n",
       "      <td>15997.70</td>\n",
       "      <td>399.20</td>\n",
       "      <td>NaN</td>\n",
       "    </tr>\n",
       "    <tr>\n",
       "      <th>1995</th>\n",
       "      <td>641860.0</td>\n",
       "      <td>212915.0</td>\n",
       "      <td>22400.60</td>\n",
       "      <td>453.30</td>\n",
       "      <td>47875.0</td>\n",
       "    </tr>\n",
       "    <tr>\n",
       "      <th>1996</th>\n",
       "      <td>617262.0</td>\n",
       "      <td>242124.0</td>\n",
       "      <td>14950.90</td>\n",
       "      <td>550.10</td>\n",
       "      <td>46824.0</td>\n",
       "    </tr>\n",
       "    <tr>\n",
       "      <th>...</th>\n",
       "      <td>...</td>\n",
       "      <td>...</td>\n",
       "      <td>...</td>\n",
       "      <td>...</td>\n",
       "      <td>...</td>\n",
       "    </tr>\n",
       "    <tr>\n",
       "      <th>2015</th>\n",
       "      <td>5651827.0</td>\n",
       "      <td>947986.0</td>\n",
       "      <td>1984.66</td>\n",
       "      <td>947.26</td>\n",
       "      <td>820166.0</td>\n",
       "    </tr>\n",
       "    <tr>\n",
       "      <th>2016</th>\n",
       "      <td>5926047.0</td>\n",
       "      <td>762176.0</td>\n",
       "      <td>2183.66</td>\n",
       "      <td>751.26</td>\n",
       "      <td>753236.0</td>\n",
       "    </tr>\n",
       "    <tr>\n",
       "      <th>2017</th>\n",
       "      <td>5239117.0</td>\n",
       "      <td>768046.0</td>\n",
       "      <td>2885.36</td>\n",
       "      <td>729.96</td>\n",
       "      <td>857246.0</td>\n",
       "    </tr>\n",
       "  </tbody>\n",
       "</table>\n",
       "<p>14 rows × 5 columns</p>\n",
       "</div>"
      ],
      "text/plain": [
       "         crimes   accused       adm  civils     fires\n",
       "1994   572147.0  174959.0  15997.70  399.20       NaN\n",
       "1995   641860.0  212915.0  22400.60  453.30   47875.0\n",
       "1996   617262.0  242124.0  14950.90  550.10   46824.0\n",
       "...         ...       ...       ...     ...       ...\n",
       "2015  5651827.0  947986.0   1984.66  947.26  820166.0\n",
       "2016  5926047.0  762176.0   2183.66  751.26  753236.0\n",
       "2017  5239117.0  768046.0   2885.36  729.96  857246.0\n",
       "\n",
       "[14 rows x 5 columns]"
      ]
     },
     "execution_count": 31,
     "metadata": {},
     "output_type": "execute_result"
    }
   ],
   "source": [
    "dd[dd.crimes > 550000]"
   ]
  },
  {
   "attachments": {},
   "cell_type": "markdown",
   "metadata": {},
   "source": [
    "*Рядки, де кількість злочинів > 550 000*"
   ]
  },
  {
   "attachments": {},
   "cell_type": "markdown",
   "metadata": {},
   "source": [
    "### Відображаємо рядки, де кількість злочинів > 550 000 і < 600 000"
   ]
  },
  {
   "cell_type": "code",
   "execution_count": 32,
   "metadata": {},
   "outputs": [
    {
     "data": {
      "text/html": [
       "<div>\n",
       "<style scoped>\n",
       "    .dataframe tbody tr th:only-of-type {\n",
       "        vertical-align: middle;\n",
       "    }\n",
       "\n",
       "    .dataframe tbody tr th {\n",
       "        vertical-align: top;\n",
       "    }\n",
       "\n",
       "    .dataframe thead th {\n",
       "        text-align: right;\n",
       "    }\n",
       "</style>\n",
       "<table border=\"1\" class=\"dataframe\">\n",
       "  <thead>\n",
       "    <tr style=\"text-align: right;\">\n",
       "      <th></th>\n",
       "      <th>crimes</th>\n",
       "      <th>accused</th>\n",
       "      <th>adm</th>\n",
       "      <th>civils</th>\n",
       "      <th>fires</th>\n",
       "    </tr>\n",
       "  </thead>\n",
       "  <tbody>\n",
       "    <tr>\n",
       "      <th>1994</th>\n",
       "      <td>572147.0</td>\n",
       "      <td>174959.0</td>\n",
       "      <td>15997.7</td>\n",
       "      <td>399.2</td>\n",
       "      <td>NaN</td>\n",
       "    </tr>\n",
       "    <tr>\n",
       "      <th>1997</th>\n",
       "      <td>589208.0</td>\n",
       "      <td>237790.0</td>\n",
       "      <td>14232.1</td>\n",
       "      <td>599.8</td>\n",
       "      <td>42507.0</td>\n",
       "    </tr>\n",
       "    <tr>\n",
       "      <th>1998</th>\n",
       "      <td>575982.0</td>\n",
       "      <td>232598.0</td>\n",
       "      <td>13330.7</td>\n",
       "      <td>744.2</td>\n",
       "      <td>41294.0</td>\n",
       "    </tr>\n",
       "    <tr>\n",
       "      <th>1999</th>\n",
       "      <td>558716.0</td>\n",
       "      <td>222239.0</td>\n",
       "      <td>10542.0</td>\n",
       "      <td>772.6</td>\n",
       "      <td>40237.0</td>\n",
       "    </tr>\n",
       "    <tr>\n",
       "      <th>2000</th>\n",
       "      <td>567795.0</td>\n",
       "      <td>230903.0</td>\n",
       "      <td>9395.4</td>\n",
       "      <td>911.4</td>\n",
       "      <td>37596.0</td>\n",
       "    </tr>\n",
       "    <tr>\n",
       "      <th>2003</th>\n",
       "      <td>566350.0</td>\n",
       "      <td>201081.0</td>\n",
       "      <td>7097.3</td>\n",
       "      <td>1259.3</td>\n",
       "      <td>40374.0</td>\n",
       "    </tr>\n",
       "    <tr>\n",
       "      <th>2013</th>\n",
       "      <td>563560.0</td>\n",
       "      <td>122973.0</td>\n",
       "      <td>4249.9</td>\n",
       "      <td>1253.8</td>\n",
       "      <td>62118.0</td>\n",
       "    </tr>\n",
       "  </tbody>\n",
       "</table>\n",
       "</div>"
      ],
      "text/plain": [
       "        crimes   accused      adm  civils    fires\n",
       "1994  572147.0  174959.0  15997.7   399.2      NaN\n",
       "1997  589208.0  237790.0  14232.1   599.8  42507.0\n",
       "1998  575982.0  232598.0  13330.7   744.2  41294.0\n",
       "1999  558716.0  222239.0  10542.0   772.6  40237.0\n",
       "2000  567795.0  230903.0   9395.4   911.4  37596.0\n",
       "2003  566350.0  201081.0   7097.3  1259.3  40374.0\n",
       "2013  563560.0  122973.0   4249.9  1253.8  62118.0"
      ]
     },
     "execution_count": 32,
     "metadata": {},
     "output_type": "execute_result"
    }
   ],
   "source": [
    "dd[(dd.crimes > 550000) & (dd.crimes < 600000)]"
   ]
  },
  {
   "attachments": {},
   "cell_type": "markdown",
   "metadata": {},
   "source": [
    "*Рядки, де кількість злочинів > 550 000 і < 600 000*"
   ]
  },
  {
   "attachments": {},
   "cell_type": "markdown",
   "metadata": {},
   "source": [
    "### Отримуємо кількість злочинів за 1992 рік явно"
   ]
  },
  {
   "cell_type": "code",
   "execution_count": 33,
   "metadata": {},
   "outputs": [
    {
     "data": {
      "text/plain": [
       "480478.0"
      ]
     },
     "execution_count": 33,
     "metadata": {},
     "output_type": "execute_result"
    }
   ],
   "source": [
    "dd.at[1992, 'crimes']"
   ]
  },
  {
   "attachments": {},
   "cell_type": "markdown",
   "metadata": {},
   "source": [
    "*Кількість злочинів за 1992 рік явно*"
   ]
  },
  {
   "attachments": {},
   "cell_type": "markdown",
   "metadata": {},
   "source": [
    "### Отримуємо кількість злочинів за 1992 рік неявно"
   ]
  },
  {
   "cell_type": "code",
   "execution_count": 34,
   "metadata": {},
   "outputs": [
    {
     "data": {
      "text/plain": [
       "480478.0"
      ]
     },
     "execution_count": 34,
     "metadata": {},
     "output_type": "execute_result"
    }
   ],
   "source": [
    "dd.iat[2, 0]"
   ]
  },
  {
   "attachments": {},
   "cell_type": "markdown",
   "metadata": {},
   "source": [
    "*Кількість злочинів за 1992 рік неявно*"
   ]
  },
  {
   "attachments": {},
   "cell_type": "markdown",
   "metadata": {},
   "source": [
    "### Змінюємо значення кількості злочинів за 1992 явно"
   ]
  },
  {
   "cell_type": "code",
   "execution_count": 35,
   "metadata": {},
   "outputs": [
    {
     "data": {
      "text/plain": [
       "11.0"
      ]
     },
     "execution_count": 35,
     "metadata": {},
     "output_type": "execute_result"
    }
   ],
   "source": [
    "dd.at[1992, 'crimes'] = 11\n",
    "dd.at[1992, 'crimes']"
   ]
  },
  {
   "attachments": {},
   "cell_type": "markdown",
   "metadata": {},
   "source": [
    "*Зміна значення кількості злочинів за 1992 явно*"
   ]
  },
  {
   "attachments": {},
   "cell_type": "markdown",
   "metadata": {},
   "source": [
    "### Змінюємо значення кількостізлочинів за 1992 НЕявно"
   ]
  },
  {
   "cell_type": "code",
   "execution_count": 36,
   "metadata": {},
   "outputs": [
    {
     "data": {
      "text/plain": [
       "22.0"
      ]
     },
     "execution_count": 36,
     "metadata": {},
     "output_type": "execute_result"
    }
   ],
   "source": [
    "dd.iat[2, 0] = 22\n",
    "dd.iat[2, 0]"
   ]
  },
  {
   "attachments": {},
   "cell_type": "markdown",
   "metadata": {},
   "source": [
    "*Зміна значення кількості злочинів за 1992 неявно*"
   ]
  },
  {
   "attachments": {},
   "cell_type": "markdown",
   "metadata": {},
   "source": [
    "### Інформацію про набір даних( кількість рядків, математичне сподівання, середньоквадратичне відхилення, найменше та найбільше значення, квантилі )"
   ]
  },
  {
   "cell_type": "code",
   "execution_count": 37,
   "metadata": {},
   "outputs": [
    {
     "data": {
      "text/html": [
       "<div>\n",
       "<style scoped>\n",
       "    .dataframe tbody tr th:only-of-type {\n",
       "        vertical-align: middle;\n",
       "    }\n",
       "\n",
       "    .dataframe tbody tr th {\n",
       "        vertical-align: top;\n",
       "    }\n",
       "\n",
       "    .dataframe thead th {\n",
       "        text-align: right;\n",
       "    }\n",
       "</style>\n",
       "<table border=\"1\" class=\"dataframe\">\n",
       "  <thead>\n",
       "    <tr style=\"text-align: right;\">\n",
       "      <th></th>\n",
       "      <th>crimes</th>\n",
       "      <th>accused</th>\n",
       "      <th>adm</th>\n",
       "      <th>civils</th>\n",
       "      <th>fires</th>\n",
       "    </tr>\n",
       "  </thead>\n",
       "  <tbody>\n",
       "    <tr>\n",
       "      <th>count</th>\n",
       "      <td>2.800000e+01</td>\n",
       "      <td>2.800000e+01</td>\n",
       "      <td>28.000000</td>\n",
       "      <td>28.000000</td>\n",
       "      <td>23.000000</td>\n",
       "    </tr>\n",
       "    <tr>\n",
       "      <th>mean</th>\n",
       "      <td>1.351195e+06</td>\n",
       "      <td>2.760651e+05</td>\n",
       "      <td>8531.505000</td>\n",
       "      <td>991.708571</td>\n",
       "      <td>177576.521739</td>\n",
       "    </tr>\n",
       "    <tr>\n",
       "      <th>std</th>\n",
       "      <td>1.897999e+06</td>\n",
       "      <td>2.556961e+05</td>\n",
       "      <td>4607.697643</td>\n",
       "      <td>478.582688</td>\n",
       "      <td>285807.644386</td>\n",
       "    </tr>\n",
       "    <tr>\n",
       "      <th>...</th>\n",
       "      <td>...</td>\n",
       "      <td>...</td>\n",
       "      <td>...</td>\n",
       "      <td>...</td>\n",
       "      <td>...</td>\n",
       "    </tr>\n",
       "    <tr>\n",
       "      <th>50%</th>\n",
       "      <td>5.490075e+05</td>\n",
       "      <td>1.855730e+05</td>\n",
       "      <td>7759.700000</td>\n",
       "      <td>963.910000</td>\n",
       "      <td>49838.000000</td>\n",
       "    </tr>\n",
       "    <tr>\n",
       "      <th>75%</th>\n",
       "      <td>5.962215e+05</td>\n",
       "      <td>2.313268e+05</td>\n",
       "      <td>10041.675000</td>\n",
       "      <td>1289.225000</td>\n",
       "      <td>63733.500000</td>\n",
       "    </tr>\n",
       "    <tr>\n",
       "      <th>max</th>\n",
       "      <td>5.926047e+06</td>\n",
       "      <td>1.021706e+06</td>\n",
       "      <td>22400.600000</td>\n",
       "      <td>2193.300000</td>\n",
       "      <td>857246.000000</td>\n",
       "    </tr>\n",
       "  </tbody>\n",
       "</table>\n",
       "<p>8 rows × 5 columns</p>\n",
       "</div>"
      ],
      "text/plain": [
       "             crimes       accused           adm       civils          fires\n",
       "count  2.800000e+01  2.800000e+01     28.000000    28.000000      23.000000\n",
       "mean   1.351195e+06  2.760651e+05   8531.505000   991.708571  177576.521739\n",
       "std    1.897999e+06  2.556961e+05   4607.697643   478.582688  285807.644386\n",
       "...             ...           ...           ...          ...            ...\n",
       "50%    5.490075e+05  1.855730e+05   7759.700000   963.910000   49838.000000\n",
       "75%    5.962215e+05  2.313268e+05  10041.675000  1289.225000   63733.500000\n",
       "max    5.926047e+06  1.021706e+06  22400.600000  2193.300000  857246.000000\n",
       "\n",
       "[8 rows x 5 columns]"
      ]
     },
     "execution_count": 37,
     "metadata": {},
     "output_type": "execute_result"
    }
   ],
   "source": [
    "dd.describe()"
   ]
  },
  {
   "attachments": {},
   "cell_type": "markdown",
   "metadata": {},
   "source": [
    "*Інформація про набір даних*"
   ]
  },
  {
   "attachments": {},
   "cell_type": "markdown",
   "metadata": {},
   "source": [
    "### Зміна точності виведення дійсних чисел"
   ]
  },
  {
   "cell_type": "code",
   "execution_count": 38,
   "metadata": {},
   "outputs": [
    {
     "data": {
      "text/html": [
       "<div>\n",
       "<style scoped>\n",
       "    .dataframe tbody tr th:only-of-type {\n",
       "        vertical-align: middle;\n",
       "    }\n",
       "\n",
       "    .dataframe tbody tr th {\n",
       "        vertical-align: top;\n",
       "    }\n",
       "\n",
       "    .dataframe thead th {\n",
       "        text-align: right;\n",
       "    }\n",
       "</style>\n",
       "<table border=\"1\" class=\"dataframe\">\n",
       "  <thead>\n",
       "    <tr style=\"text-align: right;\">\n",
       "      <th></th>\n",
       "      <th>crimes</th>\n",
       "      <th>accused</th>\n",
       "      <th>adm</th>\n",
       "      <th>civils</th>\n",
       "      <th>fires</th>\n",
       "    </tr>\n",
       "  </thead>\n",
       "  <tbody>\n",
       "    <tr>\n",
       "      <th>count</th>\n",
       "      <td>2.80e+01</td>\n",
       "      <td>2.80e+01</td>\n",
       "      <td>28.00</td>\n",
       "      <td>28.00</td>\n",
       "      <td>23.00</td>\n",
       "    </tr>\n",
       "    <tr>\n",
       "      <th>mean</th>\n",
       "      <td>1.35e+06</td>\n",
       "      <td>2.76e+05</td>\n",
       "      <td>8531.50</td>\n",
       "      <td>991.71</td>\n",
       "      <td>177576.52</td>\n",
       "    </tr>\n",
       "    <tr>\n",
       "      <th>std</th>\n",
       "      <td>1.90e+06</td>\n",
       "      <td>2.56e+05</td>\n",
       "      <td>4607.70</td>\n",
       "      <td>478.58</td>\n",
       "      <td>285807.64</td>\n",
       "    </tr>\n",
       "    <tr>\n",
       "      <th>...</th>\n",
       "      <td>...</td>\n",
       "      <td>...</td>\n",
       "      <td>...</td>\n",
       "      <td>...</td>\n",
       "      <td>...</td>\n",
       "    </tr>\n",
       "    <tr>\n",
       "      <th>50%</th>\n",
       "      <td>5.49e+05</td>\n",
       "      <td>1.86e+05</td>\n",
       "      <td>7759.70</td>\n",
       "      <td>963.91</td>\n",
       "      <td>49838.00</td>\n",
       "    </tr>\n",
       "    <tr>\n",
       "      <th>75%</th>\n",
       "      <td>5.96e+05</td>\n",
       "      <td>2.31e+05</td>\n",
       "      <td>10041.67</td>\n",
       "      <td>1289.22</td>\n",
       "      <td>63733.50</td>\n",
       "    </tr>\n",
       "    <tr>\n",
       "      <th>max</th>\n",
       "      <td>5.93e+06</td>\n",
       "      <td>1.02e+06</td>\n",
       "      <td>22400.60</td>\n",
       "      <td>2193.30</td>\n",
       "      <td>857246.00</td>\n",
       "    </tr>\n",
       "  </tbody>\n",
       "</table>\n",
       "<p>8 rows × 5 columns</p>\n",
       "</div>"
      ],
      "text/plain": [
       "         crimes   accused       adm   civils      fires\n",
       "count  2.80e+01  2.80e+01     28.00    28.00      23.00\n",
       "mean   1.35e+06  2.76e+05   8531.50   991.71  177576.52\n",
       "std    1.90e+06  2.56e+05   4607.70   478.58  285807.64\n",
       "...         ...       ...       ...      ...        ...\n",
       "50%    5.49e+05  1.86e+05   7759.70   963.91   49838.00\n",
       "75%    5.96e+05  2.31e+05  10041.67  1289.22   63733.50\n",
       "max    5.93e+06  1.02e+06  22400.60  2193.30  857246.00\n",
       "\n",
       "[8 rows x 5 columns]"
      ]
     },
     "execution_count": 38,
     "metadata": {},
     "output_type": "execute_result"
    }
   ],
   "source": [
    "pd.options.display.precision = 2\n",
    "dd.describe()"
   ]
  },
  {
   "attachments": {},
   "cell_type": "markdown",
   "metadata": {},
   "source": [
    "*Зміна точності виведення дійсних чисел*"
   ]
  },
  {
   "attachments": {},
   "cell_type": "markdown",
   "metadata": {},
   "source": [
    "### Знайдемо математичне сподівання для кожного стовпчика"
   ]
  },
  {
   "cell_type": "code",
   "execution_count": 39,
   "metadata": {},
   "outputs": [
    {
     "data": {
      "text/plain": [
       "crimes     1.35e+06\n",
       "accused    2.76e+05\n",
       "adm        8.53e+03\n",
       "civils     9.92e+02\n",
       "fires      1.78e+05\n",
       "dtype: float64"
      ]
     },
     "execution_count": 39,
     "metadata": {},
     "output_type": "execute_result"
    }
   ],
   "source": [
    "dd.mean()"
   ]
  },
  {
   "attachments": {},
   "cell_type": "markdown",
   "metadata": {},
   "source": [
    "*Математичне сподівання для кожного стовпчика*"
   ]
  },
  {
   "attachments": {},
   "cell_type": "markdown",
   "metadata": {},
   "source": [
    "### Транспонуємо набір даних"
   ]
  },
  {
   "cell_type": "code",
   "execution_count": 40,
   "metadata": {},
   "outputs": [
    {
     "data": {
      "text/html": [
       "<div>\n",
       "<style scoped>\n",
       "    .dataframe tbody tr th:only-of-type {\n",
       "        vertical-align: middle;\n",
       "    }\n",
       "\n",
       "    .dataframe tbody tr th {\n",
       "        vertical-align: top;\n",
       "    }\n",
       "\n",
       "    .dataframe thead th {\n",
       "        text-align: right;\n",
       "    }\n",
       "</style>\n",
       "<table border=\"1\" class=\"dataframe\">\n",
       "  <thead>\n",
       "    <tr style=\"text-align: right;\">\n",
       "      <th></th>\n",
       "      <th>1990</th>\n",
       "      <th>1991</th>\n",
       "      <th>1992</th>\n",
       "      <th>...</th>\n",
       "      <th>2015</th>\n",
       "      <th>2016</th>\n",
       "      <th>2017</th>\n",
       "    </tr>\n",
       "  </thead>\n",
       "  <tbody>\n",
       "    <tr>\n",
       "      <th>crimes</th>\n",
       "      <td>369809.0</td>\n",
       "      <td>405516.0</td>\n",
       "      <td>22.0</td>\n",
       "      <td>...</td>\n",
       "      <td>5.65e+06</td>\n",
       "      <td>5.93e+06</td>\n",
       "      <td>5.24e+06</td>\n",
       "    </tr>\n",
       "    <tr>\n",
       "      <th>accused</th>\n",
       "      <td>104199.0</td>\n",
       "      <td>108553.0</td>\n",
       "      <td>115260.0</td>\n",
       "      <td>...</td>\n",
       "      <td>9.48e+05</td>\n",
       "      <td>7.62e+05</td>\n",
       "      <td>7.68e+05</td>\n",
       "    </tr>\n",
       "    <tr>\n",
       "      <th>adm</th>\n",
       "      <td>6515.9</td>\n",
       "      <td>7841.5</td>\n",
       "      <td>9723.9</td>\n",
       "      <td>...</td>\n",
       "      <td>1.98e+03</td>\n",
       "      <td>2.18e+03</td>\n",
       "      <td>2.89e+03</td>\n",
       "    </tr>\n",
       "    <tr>\n",
       "      <th>civils</th>\n",
       "      <td>379.2</td>\n",
       "      <td>358.5</td>\n",
       "      <td>364.0</td>\n",
       "      <td>...</td>\n",
       "      <td>9.47e+02</td>\n",
       "      <td>7.51e+02</td>\n",
       "      <td>7.30e+02</td>\n",
       "    </tr>\n",
       "    <tr>\n",
       "      <th>fires</th>\n",
       "      <td>NaN</td>\n",
       "      <td>NaN</td>\n",
       "      <td>NaN</td>\n",
       "      <td>...</td>\n",
       "      <td>8.20e+05</td>\n",
       "      <td>7.53e+05</td>\n",
       "      <td>8.57e+05</td>\n",
       "    </tr>\n",
       "  </tbody>\n",
       "</table>\n",
       "<p>5 rows × 28 columns</p>\n",
       "</div>"
      ],
      "text/plain": [
       "             1990      1991      1992  ...      2015      2016      2017\n",
       "crimes   369809.0  405516.0      22.0  ...  5.65e+06  5.93e+06  5.24e+06\n",
       "accused  104199.0  108553.0  115260.0  ...  9.48e+05  7.62e+05  7.68e+05\n",
       "adm        6515.9    7841.5    9723.9  ...  1.98e+03  2.18e+03  2.89e+03\n",
       "civils      379.2     358.5     364.0  ...  9.47e+02  7.51e+02  7.30e+02\n",
       "fires         NaN       NaN       NaN  ...  8.20e+05  7.53e+05  8.57e+05\n",
       "\n",
       "[5 rows x 28 columns]"
      ]
     },
     "execution_count": 40,
     "metadata": {},
     "output_type": "execute_result"
    }
   ],
   "source": [
    "dd.T"
   ]
  },
  {
   "attachments": {},
   "cell_type": "markdown",
   "metadata": {},
   "source": [
    "*Транспонований набір даних*"
   ]
  },
  {
   "attachments": {},
   "cell_type": "markdown",
   "metadata": {},
   "source": [
    "### Знаходження інформації про транспонований набір даних"
   ]
  },
  {
   "cell_type": "code",
   "execution_count": 41,
   "metadata": {},
   "outputs": [
    {
     "data": {
      "text/html": [
       "<div>\n",
       "<style scoped>\n",
       "    .dataframe tbody tr th:only-of-type {\n",
       "        vertical-align: middle;\n",
       "    }\n",
       "\n",
       "    .dataframe tbody tr th {\n",
       "        vertical-align: top;\n",
       "    }\n",
       "\n",
       "    .dataframe thead th {\n",
       "        text-align: right;\n",
       "    }\n",
       "</style>\n",
       "<table border=\"1\" class=\"dataframe\">\n",
       "  <thead>\n",
       "    <tr style=\"text-align: right;\">\n",
       "      <th></th>\n",
       "      <th>1990</th>\n",
       "      <th>1991</th>\n",
       "      <th>1992</th>\n",
       "      <th>...</th>\n",
       "      <th>2015</th>\n",
       "      <th>2016</th>\n",
       "      <th>2017</th>\n",
       "    </tr>\n",
       "  </thead>\n",
       "  <tbody>\n",
       "    <tr>\n",
       "      <th>count</th>\n",
       "      <td>4.00</td>\n",
       "      <td>4.00</td>\n",
       "      <td>4.00</td>\n",
       "      <td>...</td>\n",
       "      <td>5.00e+00</td>\n",
       "      <td>5.00e+00</td>\n",
       "      <td>5.00e+00</td>\n",
       "    </tr>\n",
       "    <tr>\n",
       "      <th>mean</th>\n",
       "      <td>120225.78</td>\n",
       "      <td>130567.25</td>\n",
       "      <td>31342.47</td>\n",
       "      <td>...</td>\n",
       "      <td>1.48e+06</td>\n",
       "      <td>1.49e+06</td>\n",
       "      <td>1.37e+06</td>\n",
       "    </tr>\n",
       "    <tr>\n",
       "      <th>std</th>\n",
       "      <td>173052.77</td>\n",
       "      <td>189822.17</td>\n",
       "      <td>56125.31</td>\n",
       "      <td>...</td>\n",
       "      <td>2.37e+06</td>\n",
       "      <td>2.51e+06</td>\n",
       "      <td>2.20e+06</td>\n",
       "    </tr>\n",
       "    <tr>\n",
       "      <th>...</th>\n",
       "      <td>...</td>\n",
       "      <td>...</td>\n",
       "      <td>...</td>\n",
       "      <td>...</td>\n",
       "      <td>...</td>\n",
       "      <td>...</td>\n",
       "      <td>...</td>\n",
       "    </tr>\n",
       "    <tr>\n",
       "      <th>50%</th>\n",
       "      <td>55357.45</td>\n",
       "      <td>58197.25</td>\n",
       "      <td>5043.95</td>\n",
       "      <td>...</td>\n",
       "      <td>8.20e+05</td>\n",
       "      <td>7.53e+05</td>\n",
       "      <td>7.68e+05</td>\n",
       "    </tr>\n",
       "    <tr>\n",
       "      <th>75%</th>\n",
       "      <td>170601.50</td>\n",
       "      <td>182793.75</td>\n",
       "      <td>36107.93</td>\n",
       "      <td>...</td>\n",
       "      <td>9.48e+05</td>\n",
       "      <td>7.62e+05</td>\n",
       "      <td>8.57e+05</td>\n",
       "    </tr>\n",
       "    <tr>\n",
       "      <th>max</th>\n",
       "      <td>369809.00</td>\n",
       "      <td>405516.00</td>\n",
       "      <td>115260.00</td>\n",
       "      <td>...</td>\n",
       "      <td>5.65e+06</td>\n",
       "      <td>5.93e+06</td>\n",
       "      <td>5.24e+06</td>\n",
       "    </tr>\n",
       "  </tbody>\n",
       "</table>\n",
       "<p>8 rows × 28 columns</p>\n",
       "</div>"
      ],
      "text/plain": [
       "            1990       1991       1992  ...      2015      2016      2017\n",
       "count       4.00       4.00       4.00  ...  5.00e+00  5.00e+00  5.00e+00\n",
       "mean   120225.78  130567.25   31342.47  ...  1.48e+06  1.49e+06  1.37e+06\n",
       "std    173052.77  189822.17   56125.31  ...  2.37e+06  2.51e+06  2.20e+06\n",
       "...          ...        ...        ...  ...       ...       ...       ...\n",
       "50%     55357.45   58197.25    5043.95  ...  8.20e+05  7.53e+05  7.68e+05\n",
       "75%    170601.50  182793.75   36107.93  ...  9.48e+05  7.62e+05  8.57e+05\n",
       "max    369809.00  405516.00  115260.00  ...  5.65e+06  5.93e+06  5.24e+06\n",
       "\n",
       "[8 rows x 28 columns]"
      ]
     },
     "execution_count": 41,
     "metadata": {},
     "output_type": "execute_result"
    }
   ],
   "source": [
    "dd.T.describe()"
   ]
  },
  {
   "attachments": {},
   "cell_type": "markdown",
   "metadata": {},
   "source": [
    "*Інформація про транспонований набір даних*"
   ]
  },
  {
   "attachments": {},
   "cell_type": "markdown",
   "metadata": {},
   "source": [
    "### Отримуємо математичне сподівання для транспонованого набору даних, де тепер значення отримаємо не по стобцях, а по роках"
   ]
  },
  {
   "cell_type": "code",
   "execution_count": 42,
   "metadata": {},
   "outputs": [
    {
     "data": {
      "text/plain": [
       "1990    1.20e+05\n",
       "1991    1.31e+05\n",
       "1992    3.13e+04\n",
       "          ...   \n",
       "2015    1.48e+06\n",
       "2016    1.49e+06\n",
       "2017    1.37e+06\n",
       "Length: 28, dtype: float64"
      ]
     },
     "execution_count": 42,
     "metadata": {},
     "output_type": "execute_result"
    }
   ],
   "source": [
    "dd.T.mean()"
   ]
  },
  {
   "attachments": {},
   "cell_type": "markdown",
   "metadata": {},
   "source": [
    "*Математичне сподівання для транспонованого набору даних*"
   ]
  },
  {
   "attachments": {},
   "cell_type": "markdown",
   "metadata": {},
   "source": [
    "### Сортуємо набір даних за індексом за зростанням"
   ]
  },
  {
   "cell_type": "code",
   "execution_count": 43,
   "metadata": {},
   "outputs": [
    {
     "data": {
      "text/html": [
       "<div>\n",
       "<style scoped>\n",
       "    .dataframe tbody tr th:only-of-type {\n",
       "        vertical-align: middle;\n",
       "    }\n",
       "\n",
       "    .dataframe tbody tr th {\n",
       "        vertical-align: top;\n",
       "    }\n",
       "\n",
       "    .dataframe thead th {\n",
       "        text-align: right;\n",
       "    }\n",
       "</style>\n",
       "<table border=\"1\" class=\"dataframe\">\n",
       "  <thead>\n",
       "    <tr style=\"text-align: right;\">\n",
       "      <th></th>\n",
       "      <th>crimes</th>\n",
       "      <th>accused</th>\n",
       "      <th>adm</th>\n",
       "      <th>civils</th>\n",
       "      <th>fires</th>\n",
       "    </tr>\n",
       "  </thead>\n",
       "  <tbody>\n",
       "    <tr>\n",
       "      <th>1990</th>\n",
       "      <td>3.70e+05</td>\n",
       "      <td>104199.0</td>\n",
       "      <td>6515.90</td>\n",
       "      <td>379.20</td>\n",
       "      <td>NaN</td>\n",
       "    </tr>\n",
       "    <tr>\n",
       "      <th>1991</th>\n",
       "      <td>4.06e+05</td>\n",
       "      <td>108553.0</td>\n",
       "      <td>7841.50</td>\n",
       "      <td>358.50</td>\n",
       "      <td>NaN</td>\n",
       "    </tr>\n",
       "    <tr>\n",
       "      <th>1992</th>\n",
       "      <td>2.20e+01</td>\n",
       "      <td>115260.0</td>\n",
       "      <td>9723.90</td>\n",
       "      <td>364.00</td>\n",
       "      <td>NaN</td>\n",
       "    </tr>\n",
       "    <tr>\n",
       "      <th>...</th>\n",
       "      <td>...</td>\n",
       "      <td>...</td>\n",
       "      <td>...</td>\n",
       "      <td>...</td>\n",
       "      <td>...</td>\n",
       "    </tr>\n",
       "    <tr>\n",
       "      <th>2015</th>\n",
       "      <td>5.65e+06</td>\n",
       "      <td>947986.0</td>\n",
       "      <td>1984.66</td>\n",
       "      <td>947.26</td>\n",
       "      <td>820166.0</td>\n",
       "    </tr>\n",
       "    <tr>\n",
       "      <th>2016</th>\n",
       "      <td>5.93e+06</td>\n",
       "      <td>762176.0</td>\n",
       "      <td>2183.66</td>\n",
       "      <td>751.26</td>\n",
       "      <td>753236.0</td>\n",
       "    </tr>\n",
       "    <tr>\n",
       "      <th>2017</th>\n",
       "      <td>5.24e+06</td>\n",
       "      <td>768046.0</td>\n",
       "      <td>2885.36</td>\n",
       "      <td>729.96</td>\n",
       "      <td>857246.0</td>\n",
       "    </tr>\n",
       "  </tbody>\n",
       "</table>\n",
       "<p>28 rows × 5 columns</p>\n",
       "</div>"
      ],
      "text/plain": [
       "        crimes   accused      adm  civils     fires\n",
       "1990  3.70e+05  104199.0  6515.90  379.20       NaN\n",
       "1991  4.06e+05  108553.0  7841.50  358.50       NaN\n",
       "1992  2.20e+01  115260.0  9723.90  364.00       NaN\n",
       "...        ...       ...      ...     ...       ...\n",
       "2015  5.65e+06  947986.0  1984.66  947.26  820166.0\n",
       "2016  5.93e+06  762176.0  2183.66  751.26  753236.0\n",
       "2017  5.24e+06  768046.0  2885.36  729.96  857246.0\n",
       "\n",
       "[28 rows x 5 columns]"
      ]
     },
     "execution_count": 43,
     "metadata": {},
     "output_type": "execute_result"
    }
   ],
   "source": [
    "dd.sort_index(ascending=True)"
   ]
  },
  {
   "attachments": {},
   "cell_type": "markdown",
   "metadata": {},
   "source": [
    "*Набір даних, відсортований за індексом за зростанням*"
   ]
  },
  {
   "attachments": {},
   "cell_type": "markdown",
   "metadata": {},
   "source": [
    "### Сортуємо набір даних за індексом за спаданням"
   ]
  },
  {
   "cell_type": "code",
   "execution_count": 44,
   "metadata": {},
   "outputs": [
    {
     "data": {
      "text/html": [
       "<div>\n",
       "<style scoped>\n",
       "    .dataframe tbody tr th:only-of-type {\n",
       "        vertical-align: middle;\n",
       "    }\n",
       "\n",
       "    .dataframe tbody tr th {\n",
       "        vertical-align: top;\n",
       "    }\n",
       "\n",
       "    .dataframe thead th {\n",
       "        text-align: right;\n",
       "    }\n",
       "</style>\n",
       "<table border=\"1\" class=\"dataframe\">\n",
       "  <thead>\n",
       "    <tr style=\"text-align: right;\">\n",
       "      <th></th>\n",
       "      <th>crimes</th>\n",
       "      <th>accused</th>\n",
       "      <th>adm</th>\n",
       "      <th>civils</th>\n",
       "      <th>fires</th>\n",
       "    </tr>\n",
       "  </thead>\n",
       "  <tbody>\n",
       "    <tr>\n",
       "      <th>2017</th>\n",
       "      <td>5.24e+06</td>\n",
       "      <td>768046.0</td>\n",
       "      <td>2885.36</td>\n",
       "      <td>729.96</td>\n",
       "      <td>857246.0</td>\n",
       "    </tr>\n",
       "    <tr>\n",
       "      <th>2016</th>\n",
       "      <td>5.93e+06</td>\n",
       "      <td>762176.0</td>\n",
       "      <td>2183.66</td>\n",
       "      <td>751.26</td>\n",
       "      <td>753236.0</td>\n",
       "    </tr>\n",
       "    <tr>\n",
       "      <th>2015</th>\n",
       "      <td>5.65e+06</td>\n",
       "      <td>947986.0</td>\n",
       "      <td>1984.66</td>\n",
       "      <td>947.26</td>\n",
       "      <td>820166.0</td>\n",
       "    </tr>\n",
       "    <tr>\n",
       "      <th>...</th>\n",
       "      <td>...</td>\n",
       "      <td>...</td>\n",
       "      <td>...</td>\n",
       "      <td>...</td>\n",
       "      <td>...</td>\n",
       "    </tr>\n",
       "    <tr>\n",
       "      <th>1992</th>\n",
       "      <td>2.20e+01</td>\n",
       "      <td>115260.0</td>\n",
       "      <td>9723.90</td>\n",
       "      <td>364.00</td>\n",
       "      <td>NaN</td>\n",
       "    </tr>\n",
       "    <tr>\n",
       "      <th>1991</th>\n",
       "      <td>4.06e+05</td>\n",
       "      <td>108553.0</td>\n",
       "      <td>7841.50</td>\n",
       "      <td>358.50</td>\n",
       "      <td>NaN</td>\n",
       "    </tr>\n",
       "    <tr>\n",
       "      <th>1990</th>\n",
       "      <td>3.70e+05</td>\n",
       "      <td>104199.0</td>\n",
       "      <td>6515.90</td>\n",
       "      <td>379.20</td>\n",
       "      <td>NaN</td>\n",
       "    </tr>\n",
       "  </tbody>\n",
       "</table>\n",
       "<p>28 rows × 5 columns</p>\n",
       "</div>"
      ],
      "text/plain": [
       "        crimes   accused      adm  civils     fires\n",
       "2017  5.24e+06  768046.0  2885.36  729.96  857246.0\n",
       "2016  5.93e+06  762176.0  2183.66  751.26  753236.0\n",
       "2015  5.65e+06  947986.0  1984.66  947.26  820166.0\n",
       "...        ...       ...      ...     ...       ...\n",
       "1992  2.20e+01  115260.0  9723.90  364.00       NaN\n",
       "1991  4.06e+05  108553.0  7841.50  358.50       NaN\n",
       "1990  3.70e+05  104199.0  6515.90  379.20       NaN\n",
       "\n",
       "[28 rows x 5 columns]"
      ]
     },
     "execution_count": 44,
     "metadata": {},
     "output_type": "execute_result"
    }
   ],
   "source": [
    "dd.sort_index(ascending=False)"
   ]
  },
  {
   "attachments": {},
   "cell_type": "markdown",
   "metadata": {},
   "source": [
    "*Набір даних, відсортований за індексом за спаданням*"
   ]
  },
  {
   "attachments": {},
   "cell_type": "markdown",
   "metadata": {},
   "source": [
    "### Сортуємо стовпці за кількість скоєних злочинів"
   ]
  },
  {
   "cell_type": "code",
   "execution_count": 45,
   "metadata": {},
   "outputs": [
    {
     "data": {
      "text/html": [
       "<div>\n",
       "<style scoped>\n",
       "    .dataframe tbody tr th:only-of-type {\n",
       "        vertical-align: middle;\n",
       "    }\n",
       "\n",
       "    .dataframe tbody tr th {\n",
       "        vertical-align: top;\n",
       "    }\n",
       "\n",
       "    .dataframe thead th {\n",
       "        text-align: right;\n",
       "    }\n",
       "</style>\n",
       "<table border=\"1\" class=\"dataframe\">\n",
       "  <thead>\n",
       "    <tr style=\"text-align: right;\">\n",
       "      <th></th>\n",
       "      <th>crimes</th>\n",
       "      <th>accused</th>\n",
       "      <th>adm</th>\n",
       "      <th>civils</th>\n",
       "      <th>fires</th>\n",
       "    </tr>\n",
       "  </thead>\n",
       "  <tbody>\n",
       "    <tr>\n",
       "      <th>2016</th>\n",
       "      <td>5.93e+06</td>\n",
       "      <td>7.62e+05</td>\n",
       "      <td>2183.66</td>\n",
       "      <td>751.26</td>\n",
       "      <td>753236.0</td>\n",
       "    </tr>\n",
       "    <tr>\n",
       "      <th>2015</th>\n",
       "      <td>5.65e+06</td>\n",
       "      <td>9.48e+05</td>\n",
       "      <td>1984.66</td>\n",
       "      <td>947.26</td>\n",
       "      <td>820166.0</td>\n",
       "    </tr>\n",
       "    <tr>\n",
       "      <th>2014</th>\n",
       "      <td>5.29e+06</td>\n",
       "      <td>1.02e+06</td>\n",
       "      <td>2657.06</td>\n",
       "      <td>980.56</td>\n",
       "      <td>705926.0</td>\n",
       "    </tr>\n",
       "    <tr>\n",
       "      <th>...</th>\n",
       "      <td>...</td>\n",
       "      <td>...</td>\n",
       "      <td>...</td>\n",
       "      <td>...</td>\n",
       "      <td>...</td>\n",
       "    </tr>\n",
       "    <tr>\n",
       "      <th>2008</th>\n",
       "      <td>3.90e+05</td>\n",
       "      <td>1.47e+05</td>\n",
       "      <td>9874.90</td>\n",
       "      <td>1680.20</td>\n",
       "      <td>49838.0</td>\n",
       "    </tr>\n",
       "    <tr>\n",
       "      <th>1990</th>\n",
       "      <td>3.70e+05</td>\n",
       "      <td>1.04e+05</td>\n",
       "      <td>6515.90</td>\n",
       "      <td>379.20</td>\n",
       "      <td>NaN</td>\n",
       "    </tr>\n",
       "    <tr>\n",
       "      <th>1992</th>\n",
       "      <td>2.20e+01</td>\n",
       "      <td>1.15e+05</td>\n",
       "      <td>9723.90</td>\n",
       "      <td>364.00</td>\n",
       "      <td>NaN</td>\n",
       "    </tr>\n",
       "  </tbody>\n",
       "</table>\n",
       "<p>28 rows × 5 columns</p>\n",
       "</div>"
      ],
      "text/plain": [
       "        crimes   accused      adm   civils     fires\n",
       "2016  5.93e+06  7.62e+05  2183.66   751.26  753236.0\n",
       "2015  5.65e+06  9.48e+05  1984.66   947.26  820166.0\n",
       "2014  5.29e+06  1.02e+06  2657.06   980.56  705926.0\n",
       "...        ...       ...      ...      ...       ...\n",
       "2008  3.90e+05  1.47e+05  9874.90  1680.20   49838.0\n",
       "1990  3.70e+05  1.04e+05  6515.90   379.20       NaN\n",
       "1992  2.20e+01  1.15e+05  9723.90   364.00       NaN\n",
       "\n",
       "[28 rows x 5 columns]"
      ]
     },
     "execution_count": 45,
     "metadata": {},
     "output_type": "execute_result"
    }
   ],
   "source": [
    "dd.sort_values(by='crimes', ascending=False)"
   ]
  },
  {
   "attachments": {},
   "cell_type": "markdown",
   "metadata": {},
   "source": [
    "*Стовпці, відсортовані за кількість скоєних злочинів*"
   ]
  },
  {
   "attachments": {},
   "cell_type": "markdown",
   "metadata": {},
   "source": [
    "### Сортуємо види порушень в транспонованому наборі даних за спаданням за 1992 рік"
   ]
  },
  {
   "cell_type": "code",
   "execution_count": 46,
   "metadata": {},
   "outputs": [
    {
     "data": {
      "text/html": [
       "<div>\n",
       "<style scoped>\n",
       "    .dataframe tbody tr th:only-of-type {\n",
       "        vertical-align: middle;\n",
       "    }\n",
       "\n",
       "    .dataframe tbody tr th {\n",
       "        vertical-align: top;\n",
       "    }\n",
       "\n",
       "    .dataframe thead th {\n",
       "        text-align: right;\n",
       "    }\n",
       "</style>\n",
       "<table border=\"1\" class=\"dataframe\">\n",
       "  <thead>\n",
       "    <tr style=\"text-align: right;\">\n",
       "      <th></th>\n",
       "      <th>1990</th>\n",
       "      <th>1991</th>\n",
       "      <th>1992</th>\n",
       "      <th>...</th>\n",
       "      <th>2015</th>\n",
       "      <th>2016</th>\n",
       "      <th>2017</th>\n",
       "    </tr>\n",
       "  </thead>\n",
       "  <tbody>\n",
       "    <tr>\n",
       "      <th>accused</th>\n",
       "      <td>104199.0</td>\n",
       "      <td>108553.0</td>\n",
       "      <td>115260.0</td>\n",
       "      <td>...</td>\n",
       "      <td>9.48e+05</td>\n",
       "      <td>7.62e+05</td>\n",
       "      <td>7.68e+05</td>\n",
       "    </tr>\n",
       "    <tr>\n",
       "      <th>adm</th>\n",
       "      <td>6515.9</td>\n",
       "      <td>7841.5</td>\n",
       "      <td>9723.9</td>\n",
       "      <td>...</td>\n",
       "      <td>1.98e+03</td>\n",
       "      <td>2.18e+03</td>\n",
       "      <td>2.89e+03</td>\n",
       "    </tr>\n",
       "    <tr>\n",
       "      <th>civils</th>\n",
       "      <td>379.2</td>\n",
       "      <td>358.5</td>\n",
       "      <td>364.0</td>\n",
       "      <td>...</td>\n",
       "      <td>9.47e+02</td>\n",
       "      <td>7.51e+02</td>\n",
       "      <td>7.30e+02</td>\n",
       "    </tr>\n",
       "    <tr>\n",
       "      <th>crimes</th>\n",
       "      <td>369809.0</td>\n",
       "      <td>405516.0</td>\n",
       "      <td>22.0</td>\n",
       "      <td>...</td>\n",
       "      <td>5.65e+06</td>\n",
       "      <td>5.93e+06</td>\n",
       "      <td>5.24e+06</td>\n",
       "    </tr>\n",
       "    <tr>\n",
       "      <th>fires</th>\n",
       "      <td>NaN</td>\n",
       "      <td>NaN</td>\n",
       "      <td>NaN</td>\n",
       "      <td>...</td>\n",
       "      <td>8.20e+05</td>\n",
       "      <td>7.53e+05</td>\n",
       "      <td>8.57e+05</td>\n",
       "    </tr>\n",
       "  </tbody>\n",
       "</table>\n",
       "<p>5 rows × 28 columns</p>\n",
       "</div>"
      ],
      "text/plain": [
       "             1990      1991      1992  ...      2015      2016      2017\n",
       "accused  104199.0  108553.0  115260.0  ...  9.48e+05  7.62e+05  7.68e+05\n",
       "adm        6515.9    7841.5    9723.9  ...  1.98e+03  2.18e+03  2.89e+03\n",
       "civils      379.2     358.5     364.0  ...  9.47e+02  7.51e+02  7.30e+02\n",
       "crimes   369809.0  405516.0      22.0  ...  5.65e+06  5.93e+06  5.24e+06\n",
       "fires         NaN       NaN       NaN  ...  8.20e+05  7.53e+05  8.57e+05\n",
       "\n",
       "[5 rows x 28 columns]"
      ]
     },
     "execution_count": 46,
     "metadata": {},
     "output_type": "execute_result"
    }
   ],
   "source": [
    "dd.T.sort_values(by=1992, ascending=False)"
   ]
  },
  {
   "attachments": {},
   "cell_type": "markdown",
   "metadata": {},
   "source": [
    "*Види порушень в транспонованому наборі даних, відсортовані за спаданням за 1992 рік*"
   ]
  },
  {
   "attachments": {},
   "cell_type": "markdown",
   "metadata": {},
   "source": [
    "### Сортуємо стовпці за кількість скоєних злочинів, де inplace=True, щоб сортування відбувалося в самому наборі даних"
   ]
  },
  {
   "cell_type": "code",
   "execution_count": 47,
   "metadata": {},
   "outputs": [],
   "source": [
    "dd.sort_values(by='crimes', ascending=False, inplace=True)"
   ]
  },
  {
   "attachments": {},
   "cell_type": "markdown",
   "metadata": {},
   "source": [
    "*Cтовпці, відсортовані за кількість скоєних злочинів*"
   ]
  },
  {
   "attachments": {},
   "cell_type": "markdown",
   "metadata": {},
   "source": [
    "## 3.5 Виконати первинну обробку даних"
   ]
  },
  {
   "attachments": {},
   "cell_type": "markdown",
   "metadata": {},
   "source": [
    "### Виконано в пункті 3.1"
   ]
  },
  {
   "attachments": {},
   "cell_type": "markdown",
   "metadata": {},
   "source": [
    "## 3.6 Прочитати набір даних катастрофи «Титаніка»"
   ]
  },
  {
   "attachments": {},
   "cell_type": "markdown",
   "metadata": {},
   "source": [
    "## 3.7 Завантажити набір даних катастрофи «Титаніка» за URL-адресою"
   ]
  },
  {
   "attachments": {},
   "cell_type": "markdown",
   "metadata": {},
   "source": [
    "### Завантаження набору даних катастрофи «Титаніка»"
   ]
  },
  {
   "cell_type": "code",
   "execution_count": 48,
   "metadata": {},
   "outputs": [
    {
     "data": {
      "text/html": [
       "<div>\n",
       "<style scoped>\n",
       "    .dataframe tbody tr th:only-of-type {\n",
       "        vertical-align: middle;\n",
       "    }\n",
       "\n",
       "    .dataframe tbody tr th {\n",
       "        vertical-align: top;\n",
       "    }\n",
       "\n",
       "    .dataframe thead th {\n",
       "        text-align: right;\n",
       "    }\n",
       "</style>\n",
       "<table border=\"1\" class=\"dataframe\">\n",
       "  <thead>\n",
       "    <tr style=\"text-align: right;\">\n",
       "      <th></th>\n",
       "      <th>Unnamed: 0</th>\n",
       "      <th>survived</th>\n",
       "      <th>sex</th>\n",
       "      <th>age</th>\n",
       "      <th>passengerClass</th>\n",
       "    </tr>\n",
       "  </thead>\n",
       "  <tbody>\n",
       "    <tr>\n",
       "      <th>0</th>\n",
       "      <td>Allen, Miss. Elisabeth Walton</td>\n",
       "      <td>yes</td>\n",
       "      <td>female</td>\n",
       "      <td>29.00</td>\n",
       "      <td>1st</td>\n",
       "    </tr>\n",
       "    <tr>\n",
       "      <th>1</th>\n",
       "      <td>Allison, Master. Hudson Trevor</td>\n",
       "      <td>yes</td>\n",
       "      <td>male</td>\n",
       "      <td>0.92</td>\n",
       "      <td>1st</td>\n",
       "    </tr>\n",
       "    <tr>\n",
       "      <th>2</th>\n",
       "      <td>Allison, Miss. Helen Loraine</td>\n",
       "      <td>no</td>\n",
       "      <td>female</td>\n",
       "      <td>2.00</td>\n",
       "      <td>1st</td>\n",
       "    </tr>\n",
       "    <tr>\n",
       "      <th>...</th>\n",
       "      <td>...</td>\n",
       "      <td>...</td>\n",
       "      <td>...</td>\n",
       "      <td>...</td>\n",
       "      <td>...</td>\n",
       "    </tr>\n",
       "    <tr>\n",
       "      <th>1306</th>\n",
       "      <td>Zakarian, Mr. Mapriededer</td>\n",
       "      <td>no</td>\n",
       "      <td>male</td>\n",
       "      <td>26.50</td>\n",
       "      <td>3rd</td>\n",
       "    </tr>\n",
       "    <tr>\n",
       "      <th>1307</th>\n",
       "      <td>Zakarian, Mr. Ortin</td>\n",
       "      <td>no</td>\n",
       "      <td>male</td>\n",
       "      <td>27.00</td>\n",
       "      <td>3rd</td>\n",
       "    </tr>\n",
       "    <tr>\n",
       "      <th>1308</th>\n",
       "      <td>Zimmerman, Mr. Leo</td>\n",
       "      <td>no</td>\n",
       "      <td>male</td>\n",
       "      <td>29.00</td>\n",
       "      <td>3rd</td>\n",
       "    </tr>\n",
       "  </tbody>\n",
       "</table>\n",
       "<p>1309 rows × 5 columns</p>\n",
       "</div>"
      ],
      "text/plain": [
       "                          Unnamed: 0 survived     sex    age passengerClass\n",
       "0      Allen, Miss. Elisabeth Walton      yes  female  29.00            1st\n",
       "1     Allison, Master. Hudson Trevor      yes    male   0.92            1st\n",
       "2       Allison, Miss. Helen Loraine       no  female   2.00            1st\n",
       "...                              ...      ...     ...    ...            ...\n",
       "1306       Zakarian, Mr. Mapriededer       no    male  26.50            3rd\n",
       "1307             Zakarian, Mr. Ortin       no    male  27.00            3rd\n",
       "1308              Zimmerman, Mr. Leo       no    male  29.00            3rd\n",
       "\n",
       "[1309 rows x 5 columns]"
      ]
     },
     "execution_count": 48,
     "metadata": {},
     "output_type": "execute_result"
    }
   ],
   "source": [
    "titanic = pd.read_csv('https://vincentarelbundock.github.io/Rdatasets/csv/carData/TitanicSurvival.csv')\n",
    "titanic"
   ]
  },
  {
   "attachments": {},
   "cell_type": "markdown",
   "metadata": {},
   "source": [
    "*Дані про катастрофу*"
   ]
  },
  {
   "attachments": {},
   "cell_type": "markdown",
   "metadata": {},
   "source": [
    "## 3.8 Переглянути рядки  набору даних катастрофи «Титаніка»"
   ]
  },
  {
   "attachments": {},
   "cell_type": "markdown",
   "metadata": {},
   "source": [
    "### Встановлення точності виведення"
   ]
  },
  {
   "cell_type": "code",
   "execution_count": 49,
   "metadata": {},
   "outputs": [
    {
     "data": {
      "text/plain": [
       "2"
      ]
     },
     "execution_count": 49,
     "metadata": {},
     "output_type": "execute_result"
    }
   ],
   "source": [
    "pd.options.display.precision = 2\n",
    "pd.options.display.precision"
   ]
  },
  {
   "attachments": {},
   "cell_type": "markdown",
   "metadata": {},
   "source": [
    "*Точність виведення*"
   ]
  },
  {
   "attachments": {},
   "cell_type": "markdown",
   "metadata": {},
   "source": [
    "### Отримання перших 5-ти рядків"
   ]
  },
  {
   "cell_type": "code",
   "execution_count": 50,
   "metadata": {},
   "outputs": [
    {
     "data": {
      "text/html": [
       "<div>\n",
       "<style scoped>\n",
       "    .dataframe tbody tr th:only-of-type {\n",
       "        vertical-align: middle;\n",
       "    }\n",
       "\n",
       "    .dataframe tbody tr th {\n",
       "        vertical-align: top;\n",
       "    }\n",
       "\n",
       "    .dataframe thead th {\n",
       "        text-align: right;\n",
       "    }\n",
       "</style>\n",
       "<table border=\"1\" class=\"dataframe\">\n",
       "  <thead>\n",
       "    <tr style=\"text-align: right;\">\n",
       "      <th></th>\n",
       "      <th>Unnamed: 0</th>\n",
       "      <th>survived</th>\n",
       "      <th>sex</th>\n",
       "      <th>age</th>\n",
       "      <th>passengerClass</th>\n",
       "    </tr>\n",
       "  </thead>\n",
       "  <tbody>\n",
       "    <tr>\n",
       "      <th>0</th>\n",
       "      <td>Allen, Miss. Elisabeth Walton</td>\n",
       "      <td>yes</td>\n",
       "      <td>female</td>\n",
       "      <td>29.00</td>\n",
       "      <td>1st</td>\n",
       "    </tr>\n",
       "    <tr>\n",
       "      <th>1</th>\n",
       "      <td>Allison, Master. Hudson Trevor</td>\n",
       "      <td>yes</td>\n",
       "      <td>male</td>\n",
       "      <td>0.92</td>\n",
       "      <td>1st</td>\n",
       "    </tr>\n",
       "    <tr>\n",
       "      <th>2</th>\n",
       "      <td>Allison, Miss. Helen Loraine</td>\n",
       "      <td>no</td>\n",
       "      <td>female</td>\n",
       "      <td>2.00</td>\n",
       "      <td>1st</td>\n",
       "    </tr>\n",
       "    <tr>\n",
       "      <th>3</th>\n",
       "      <td>Allison, Mr. Hudson Joshua Crei</td>\n",
       "      <td>no</td>\n",
       "      <td>male</td>\n",
       "      <td>30.00</td>\n",
       "      <td>1st</td>\n",
       "    </tr>\n",
       "    <tr>\n",
       "      <th>4</th>\n",
       "      <td>Allison, Mrs. Hudson J C (Bessi</td>\n",
       "      <td>no</td>\n",
       "      <td>female</td>\n",
       "      <td>25.00</td>\n",
       "      <td>1st</td>\n",
       "    </tr>\n",
       "  </tbody>\n",
       "</table>\n",
       "</div>"
      ],
      "text/plain": [
       "                        Unnamed: 0 survived     sex    age passengerClass\n",
       "0    Allen, Miss. Elisabeth Walton      yes  female  29.00            1st\n",
       "1   Allison, Master. Hudson Trevor      yes    male   0.92            1st\n",
       "2     Allison, Miss. Helen Loraine       no  female   2.00            1st\n",
       "3  Allison, Mr. Hudson Joshua Crei       no    male  30.00            1st\n",
       "4  Allison, Mrs. Hudson J C (Bessi       no  female  25.00            1st"
      ]
     },
     "execution_count": 50,
     "metadata": {},
     "output_type": "execute_result"
    }
   ],
   "source": [
    "titanic.head()"
   ]
  },
  {
   "attachments": {},
   "cell_type": "markdown",
   "metadata": {},
   "source": [
    "*Перші п'ять рядків*"
   ]
  },
  {
   "attachments": {},
   "cell_type": "markdown",
   "metadata": {},
   "source": [
    "### Отримання останніх 5-ти рядків"
   ]
  },
  {
   "cell_type": "code",
   "execution_count": 51,
   "metadata": {},
   "outputs": [
    {
     "data": {
      "text/html": [
       "<div>\n",
       "<style scoped>\n",
       "    .dataframe tbody tr th:only-of-type {\n",
       "        vertical-align: middle;\n",
       "    }\n",
       "\n",
       "    .dataframe tbody tr th {\n",
       "        vertical-align: top;\n",
       "    }\n",
       "\n",
       "    .dataframe thead th {\n",
       "        text-align: right;\n",
       "    }\n",
       "</style>\n",
       "<table border=\"1\" class=\"dataframe\">\n",
       "  <thead>\n",
       "    <tr style=\"text-align: right;\">\n",
       "      <th></th>\n",
       "      <th>Unnamed: 0</th>\n",
       "      <th>survived</th>\n",
       "      <th>sex</th>\n",
       "      <th>age</th>\n",
       "      <th>passengerClass</th>\n",
       "    </tr>\n",
       "  </thead>\n",
       "  <tbody>\n",
       "    <tr>\n",
       "      <th>1304</th>\n",
       "      <td>Zabour, Miss. Hileni</td>\n",
       "      <td>no</td>\n",
       "      <td>female</td>\n",
       "      <td>14.5</td>\n",
       "      <td>3rd</td>\n",
       "    </tr>\n",
       "    <tr>\n",
       "      <th>1305</th>\n",
       "      <td>Zabour, Miss. Thamine</td>\n",
       "      <td>no</td>\n",
       "      <td>female</td>\n",
       "      <td>NaN</td>\n",
       "      <td>3rd</td>\n",
       "    </tr>\n",
       "    <tr>\n",
       "      <th>1306</th>\n",
       "      <td>Zakarian, Mr. Mapriededer</td>\n",
       "      <td>no</td>\n",
       "      <td>male</td>\n",
       "      <td>26.5</td>\n",
       "      <td>3rd</td>\n",
       "    </tr>\n",
       "    <tr>\n",
       "      <th>1307</th>\n",
       "      <td>Zakarian, Mr. Ortin</td>\n",
       "      <td>no</td>\n",
       "      <td>male</td>\n",
       "      <td>27.0</td>\n",
       "      <td>3rd</td>\n",
       "    </tr>\n",
       "    <tr>\n",
       "      <th>1308</th>\n",
       "      <td>Zimmerman, Mr. Leo</td>\n",
       "      <td>no</td>\n",
       "      <td>male</td>\n",
       "      <td>29.0</td>\n",
       "      <td>3rd</td>\n",
       "    </tr>\n",
       "  </tbody>\n",
       "</table>\n",
       "</div>"
      ],
      "text/plain": [
       "                     Unnamed: 0 survived     sex   age passengerClass\n",
       "1304       Zabour, Miss. Hileni       no  female  14.5            3rd\n",
       "1305      Zabour, Miss. Thamine       no  female   NaN            3rd\n",
       "1306  Zakarian, Mr. Mapriededer       no    male  26.5            3rd\n",
       "1307        Zakarian, Mr. Ortin       no    male  27.0            3rd\n",
       "1308         Zimmerman, Mr. Leo       no    male  29.0            3rd"
      ]
     },
     "execution_count": 51,
     "metadata": {},
     "output_type": "execute_result"
    }
   ],
   "source": [
    "titanic.tail()"
   ]
  },
  {
   "attachments": {},
   "cell_type": "markdown",
   "metadata": {},
   "source": [
    "*Останні п'ять рядків*"
   ]
  },
  {
   "attachments": {},
   "cell_type": "markdown",
   "metadata": {},
   "source": [
    "## 3.9 Налаштувати  назви стовпців"
   ]
  },
  {
   "attachments": {},
   "cell_type": "markdown",
   "metadata": {},
   "source": [
    "### Встановлення назви стовпців"
   ]
  },
  {
   "cell_type": "code",
   "execution_count": 52,
   "metadata": {},
   "outputs": [
    {
     "data": {
      "text/html": [
       "<div>\n",
       "<style scoped>\n",
       "    .dataframe tbody tr th:only-of-type {\n",
       "        vertical-align: middle;\n",
       "    }\n",
       "\n",
       "    .dataframe tbody tr th {\n",
       "        vertical-align: top;\n",
       "    }\n",
       "\n",
       "    .dataframe thead th {\n",
       "        text-align: right;\n",
       "    }\n",
       "</style>\n",
       "<table border=\"1\" class=\"dataframe\">\n",
       "  <thead>\n",
       "    <tr style=\"text-align: right;\">\n",
       "      <th></th>\n",
       "      <th>name</th>\n",
       "      <th>survived</th>\n",
       "      <th>sex</th>\n",
       "      <th>age</th>\n",
       "      <th>class</th>\n",
       "    </tr>\n",
       "  </thead>\n",
       "  <tbody>\n",
       "    <tr>\n",
       "      <th>0</th>\n",
       "      <td>Allen, Miss. Elisabeth Walton</td>\n",
       "      <td>yes</td>\n",
       "      <td>female</td>\n",
       "      <td>29.00</td>\n",
       "      <td>1st</td>\n",
       "    </tr>\n",
       "    <tr>\n",
       "      <th>1</th>\n",
       "      <td>Allison, Master. Hudson Trevor</td>\n",
       "      <td>yes</td>\n",
       "      <td>male</td>\n",
       "      <td>0.92</td>\n",
       "      <td>1st</td>\n",
       "    </tr>\n",
       "    <tr>\n",
       "      <th>2</th>\n",
       "      <td>Allison, Miss. Helen Loraine</td>\n",
       "      <td>no</td>\n",
       "      <td>female</td>\n",
       "      <td>2.00</td>\n",
       "      <td>1st</td>\n",
       "    </tr>\n",
       "    <tr>\n",
       "      <th>...</th>\n",
       "      <td>...</td>\n",
       "      <td>...</td>\n",
       "      <td>...</td>\n",
       "      <td>...</td>\n",
       "      <td>...</td>\n",
       "    </tr>\n",
       "    <tr>\n",
       "      <th>1306</th>\n",
       "      <td>Zakarian, Mr. Mapriededer</td>\n",
       "      <td>no</td>\n",
       "      <td>male</td>\n",
       "      <td>26.50</td>\n",
       "      <td>3rd</td>\n",
       "    </tr>\n",
       "    <tr>\n",
       "      <th>1307</th>\n",
       "      <td>Zakarian, Mr. Ortin</td>\n",
       "      <td>no</td>\n",
       "      <td>male</td>\n",
       "      <td>27.00</td>\n",
       "      <td>3rd</td>\n",
       "    </tr>\n",
       "    <tr>\n",
       "      <th>1308</th>\n",
       "      <td>Zimmerman, Mr. Leo</td>\n",
       "      <td>no</td>\n",
       "      <td>male</td>\n",
       "      <td>29.00</td>\n",
       "      <td>3rd</td>\n",
       "    </tr>\n",
       "  </tbody>\n",
       "</table>\n",
       "<p>1309 rows × 5 columns</p>\n",
       "</div>"
      ],
      "text/plain": [
       "                                name survived     sex    age class\n",
       "0      Allen, Miss. Elisabeth Walton      yes  female  29.00   1st\n",
       "1     Allison, Master. Hudson Trevor      yes    male   0.92   1st\n",
       "2       Allison, Miss. Helen Loraine       no  female   2.00   1st\n",
       "...                              ...      ...     ...    ...   ...\n",
       "1306       Zakarian, Mr. Mapriededer       no    male  26.50   3rd\n",
       "1307             Zakarian, Mr. Ortin       no    male  27.00   3rd\n",
       "1308              Zimmerman, Mr. Leo       no    male  29.00   3rd\n",
       "\n",
       "[1309 rows x 5 columns]"
      ]
     },
     "execution_count": 52,
     "metadata": {},
     "output_type": "execute_result"
    }
   ],
   "source": [
    "titanic.columns = ['name', 'survived', 'sex', 'age', 'class']\n",
    "titanic"
   ]
  },
  {
   "attachments": {},
   "cell_type": "markdown",
   "metadata": {},
   "source": [
    "*Дані про катастрофу*"
   ]
  },
  {
   "attachments": {},
   "cell_type": "markdown",
   "metadata": {},
   "source": [
    "## 3.10 Провести простий аналіз даних: визначити наймолодшого пасажира, найстаршого, який був середній вік пасажирів та статистику по пасажирам які вижили. Відсортувати всіх жінок з кают 1-го класу, знайти наймолодшу та найстаршу серед них, кількість вцілілих"
   ]
  },
  {
   "attachments": {},
   "cell_type": "markdown",
   "metadata": {},
   "source": [
    "### Отримання наймолодшого пасажира за допомогою знаходження рядка за його індексом, знайденого за найменшим значенням"
   ]
  },
  {
   "cell_type": "code",
   "execution_count": 53,
   "metadata": {},
   "outputs": [
    {
     "data": {
      "text/plain": [
       "name        Dean, Miss. Elizabeth Gladys M\n",
       "survived                               yes\n",
       "sex                                 female\n",
       "age                                   0.17\n",
       "class                                  3rd\n",
       "Name: 763, dtype: object"
      ]
     },
     "execution_count": 53,
     "metadata": {},
     "output_type": "execute_result"
    }
   ],
   "source": [
    "titanic.loc[titanic.age.idxmin()]"
   ]
  },
  {
   "attachments": {},
   "cell_type": "markdown",
   "metadata": {},
   "source": [
    "*Наймолодший пасажир*"
   ]
  },
  {
   "attachments": {},
   "cell_type": "markdown",
   "metadata": {},
   "source": [
    "### Отримання найстаршого пасажира за допомогою знаходження рядка за його індексом, знайденого за найбільшим значенням"
   ]
  },
  {
   "cell_type": "code",
   "execution_count": 54,
   "metadata": {},
   "outputs": [
    {
     "data": {
      "text/plain": [
       "name        Barkworth, Mr. Algernon Henry W\n",
       "survived                                yes\n",
       "sex                                    male\n",
       "age                                    80.0\n",
       "class                                   1st\n",
       "Name: 14, dtype: object"
      ]
     },
     "execution_count": 54,
     "metadata": {},
     "output_type": "execute_result"
    }
   ],
   "source": [
    "titanic.loc[titanic.age.idxmax()]"
   ]
  },
  {
   "attachments": {},
   "cell_type": "markdown",
   "metadata": {},
   "source": [
    "*Найстарший пасажир*"
   ]
  },
  {
   "attachments": {},
   "cell_type": "markdown",
   "metadata": {},
   "source": [
    "### Знаходження середнього віку пасажирів методом mean"
   ]
  },
  {
   "cell_type": "code",
   "execution_count": 55,
   "metadata": {},
   "outputs": [
    {
     "data": {
      "text/plain": [
       "29.881134512434034"
      ]
     },
     "execution_count": 55,
     "metadata": {},
     "output_type": "execute_result"
    }
   ],
   "source": [
    "titanic.age.mean()"
   ]
  },
  {
   "attachments": {},
   "cell_type": "markdown",
   "metadata": {},
   "source": [
    "*Середній вік пасажирів*"
   ]
  },
  {
   "attachments": {},
   "cell_type": "markdown",
   "metadata": {},
   "source": [
    "### Отримання вцілілих пасажирів за допомогою маски"
   ]
  },
  {
   "cell_type": "code",
   "execution_count": 56,
   "metadata": {},
   "outputs": [
    {
     "data": {
      "text/html": [
       "<div>\n",
       "<style scoped>\n",
       "    .dataframe tbody tr th:only-of-type {\n",
       "        vertical-align: middle;\n",
       "    }\n",
       "\n",
       "    .dataframe tbody tr th {\n",
       "        vertical-align: top;\n",
       "    }\n",
       "\n",
       "    .dataframe thead th {\n",
       "        text-align: right;\n",
       "    }\n",
       "</style>\n",
       "<table border=\"1\" class=\"dataframe\">\n",
       "  <thead>\n",
       "    <tr style=\"text-align: right;\">\n",
       "      <th></th>\n",
       "      <th>name</th>\n",
       "      <th>survived</th>\n",
       "      <th>sex</th>\n",
       "      <th>age</th>\n",
       "      <th>class</th>\n",
       "    </tr>\n",
       "  </thead>\n",
       "  <tbody>\n",
       "    <tr>\n",
       "      <th>0</th>\n",
       "      <td>Allen, Miss. Elisabeth Walton</td>\n",
       "      <td>yes</td>\n",
       "      <td>female</td>\n",
       "      <td>29.00</td>\n",
       "      <td>1st</td>\n",
       "    </tr>\n",
       "    <tr>\n",
       "      <th>1</th>\n",
       "      <td>Allison, Master. Hudson Trevor</td>\n",
       "      <td>yes</td>\n",
       "      <td>male</td>\n",
       "      <td>0.92</td>\n",
       "      <td>1st</td>\n",
       "    </tr>\n",
       "    <tr>\n",
       "      <th>5</th>\n",
       "      <td>Anderson, Mr. Harry</td>\n",
       "      <td>yes</td>\n",
       "      <td>male</td>\n",
       "      <td>48.00</td>\n",
       "      <td>1st</td>\n",
       "    </tr>\n",
       "    <tr>\n",
       "      <th>...</th>\n",
       "      <td>...</td>\n",
       "      <td>...</td>\n",
       "      <td>...</td>\n",
       "      <td>...</td>\n",
       "      <td>...</td>\n",
       "    </tr>\n",
       "    <tr>\n",
       "      <th>1286</th>\n",
       "      <td>Whabee, Mrs. George Joseph (Sha</td>\n",
       "      <td>yes</td>\n",
       "      <td>female</td>\n",
       "      <td>38.00</td>\n",
       "      <td>3rd</td>\n",
       "    </tr>\n",
       "    <tr>\n",
       "      <th>1290</th>\n",
       "      <td>Wilkes, Mrs. James (Ellen Needs</td>\n",
       "      <td>yes</td>\n",
       "      <td>female</td>\n",
       "      <td>47.00</td>\n",
       "      <td>3rd</td>\n",
       "    </tr>\n",
       "    <tr>\n",
       "      <th>1300</th>\n",
       "      <td>Yasbeck, Mrs. Antoni (Selini Al</td>\n",
       "      <td>yes</td>\n",
       "      <td>female</td>\n",
       "      <td>15.00</td>\n",
       "      <td>3rd</td>\n",
       "    </tr>\n",
       "  </tbody>\n",
       "</table>\n",
       "<p>500 rows × 5 columns</p>\n",
       "</div>"
      ],
      "text/plain": [
       "                                 name survived     sex    age class\n",
       "0       Allen, Miss. Elisabeth Walton      yes  female  29.00   1st\n",
       "1      Allison, Master. Hudson Trevor      yes    male   0.92   1st\n",
       "5                 Anderson, Mr. Harry      yes    male  48.00   1st\n",
       "...                               ...      ...     ...    ...   ...\n",
       "1286  Whabee, Mrs. George Joseph (Sha      yes  female  38.00   3rd\n",
       "1290  Wilkes, Mrs. James (Ellen Needs      yes  female  47.00   3rd\n",
       "1300  Yasbeck, Mrs. Antoni (Selini Al      yes  female  15.00   3rd\n",
       "\n",
       "[500 rows x 5 columns]"
      ]
     },
     "execution_count": 56,
     "metadata": {},
     "output_type": "execute_result"
    }
   ],
   "source": [
    "survived = titanic[titanic.survived == 'yes']\n",
    "survived"
   ]
  },
  {
   "attachments": {},
   "cell_type": "markdown",
   "metadata": {},
   "source": [
    "*Уцілілі пасажири*"
   ]
  },
  {
   "attachments": {},
   "cell_type": "markdown",
   "metadata": {},
   "source": [
    "### Статистика по вцілілих пасажирах (кількість, середній вік, середньоквадратичне відхилення віку, найменший вік, найбільший та квантилі)"
   ]
  },
  {
   "cell_type": "code",
   "execution_count": 57,
   "metadata": {},
   "outputs": [
    {
     "data": {
      "text/html": [
       "<div>\n",
       "<style scoped>\n",
       "    .dataframe tbody tr th:only-of-type {\n",
       "        vertical-align: middle;\n",
       "    }\n",
       "\n",
       "    .dataframe tbody tr th {\n",
       "        vertical-align: top;\n",
       "    }\n",
       "\n",
       "    .dataframe thead th {\n",
       "        text-align: right;\n",
       "    }\n",
       "</style>\n",
       "<table border=\"1\" class=\"dataframe\">\n",
       "  <thead>\n",
       "    <tr style=\"text-align: right;\">\n",
       "      <th></th>\n",
       "      <th>age</th>\n",
       "    </tr>\n",
       "  </thead>\n",
       "  <tbody>\n",
       "    <tr>\n",
       "      <th>count</th>\n",
       "      <td>427.00</td>\n",
       "    </tr>\n",
       "    <tr>\n",
       "      <th>mean</th>\n",
       "      <td>28.92</td>\n",
       "    </tr>\n",
       "    <tr>\n",
       "      <th>std</th>\n",
       "      <td>15.06</td>\n",
       "    </tr>\n",
       "    <tr>\n",
       "      <th>...</th>\n",
       "      <td>...</td>\n",
       "    </tr>\n",
       "    <tr>\n",
       "      <th>50%</th>\n",
       "      <td>28.00</td>\n",
       "    </tr>\n",
       "    <tr>\n",
       "      <th>75%</th>\n",
       "      <td>38.00</td>\n",
       "    </tr>\n",
       "    <tr>\n",
       "      <th>max</th>\n",
       "      <td>80.00</td>\n",
       "    </tr>\n",
       "  </tbody>\n",
       "</table>\n",
       "<p>8 rows × 1 columns</p>\n",
       "</div>"
      ],
      "text/plain": [
       "          age\n",
       "count  427.00\n",
       "mean    28.92\n",
       "std     15.06\n",
       "...       ...\n",
       "50%     28.00\n",
       "75%     38.00\n",
       "max     80.00\n",
       "\n",
       "[8 rows x 1 columns]"
      ]
     },
     "execution_count": 57,
     "metadata": {},
     "output_type": "execute_result"
    }
   ],
   "source": [
    "survived.describe()"
   ]
  },
  {
   "attachments": {},
   "cell_type": "markdown",
   "metadata": {},
   "source": [
    "*Статистика по вцілілих пасажирах*"
   ]
  },
  {
   "attachments": {},
   "cell_type": "markdown",
   "metadata": {},
   "source": [
    "### Фільтрування за статтю( жінки ) та класом ( 1ий клас )"
   ]
  },
  {
   "cell_type": "code",
   "execution_count": 58,
   "metadata": {},
   "outputs": [
    {
     "data": {
      "text/html": [
       "<div>\n",
       "<style scoped>\n",
       "    .dataframe tbody tr th:only-of-type {\n",
       "        vertical-align: middle;\n",
       "    }\n",
       "\n",
       "    .dataframe tbody tr th {\n",
       "        vertical-align: top;\n",
       "    }\n",
       "\n",
       "    .dataframe thead th {\n",
       "        text-align: right;\n",
       "    }\n",
       "</style>\n",
       "<table border=\"1\" class=\"dataframe\">\n",
       "  <thead>\n",
       "    <tr style=\"text-align: right;\">\n",
       "      <th></th>\n",
       "      <th>name</th>\n",
       "      <th>survived</th>\n",
       "      <th>sex</th>\n",
       "      <th>age</th>\n",
       "      <th>class</th>\n",
       "    </tr>\n",
       "  </thead>\n",
       "  <tbody>\n",
       "    <tr>\n",
       "      <th>0</th>\n",
       "      <td>Allen, Miss. Elisabeth Walton</td>\n",
       "      <td>yes</td>\n",
       "      <td>female</td>\n",
       "      <td>29.0</td>\n",
       "      <td>1st</td>\n",
       "    </tr>\n",
       "    <tr>\n",
       "      <th>2</th>\n",
       "      <td>Allison, Miss. Helen Loraine</td>\n",
       "      <td>no</td>\n",
       "      <td>female</td>\n",
       "      <td>2.0</td>\n",
       "      <td>1st</td>\n",
       "    </tr>\n",
       "    <tr>\n",
       "      <th>4</th>\n",
       "      <td>Allison, Mrs. Hudson J C (Bessi</td>\n",
       "      <td>no</td>\n",
       "      <td>female</td>\n",
       "      <td>25.0</td>\n",
       "      <td>1st</td>\n",
       "    </tr>\n",
       "    <tr>\n",
       "      <th>...</th>\n",
       "      <td>...</td>\n",
       "      <td>...</td>\n",
       "      <td>...</td>\n",
       "      <td>...</td>\n",
       "      <td>...</td>\n",
       "    </tr>\n",
       "    <tr>\n",
       "      <th>315</th>\n",
       "      <td>Willard, Miss. Constance</td>\n",
       "      <td>yes</td>\n",
       "      <td>female</td>\n",
       "      <td>21.0</td>\n",
       "      <td>1st</td>\n",
       "    </tr>\n",
       "    <tr>\n",
       "      <th>319</th>\n",
       "      <td>Wilson, Miss. Helen Alice</td>\n",
       "      <td>yes</td>\n",
       "      <td>female</td>\n",
       "      <td>31.0</td>\n",
       "      <td>1st</td>\n",
       "    </tr>\n",
       "    <tr>\n",
       "      <th>322</th>\n",
       "      <td>Young, Miss. Marie Grice</td>\n",
       "      <td>yes</td>\n",
       "      <td>female</td>\n",
       "      <td>36.0</td>\n",
       "      <td>1st</td>\n",
       "    </tr>\n",
       "  </tbody>\n",
       "</table>\n",
       "<p>144 rows × 5 columns</p>\n",
       "</div>"
      ],
      "text/plain": [
       "                                name survived     sex   age class\n",
       "0      Allen, Miss. Elisabeth Walton      yes  female  29.0   1st\n",
       "2       Allison, Miss. Helen Loraine       no  female   2.0   1st\n",
       "4    Allison, Mrs. Hudson J C (Bessi       no  female  25.0   1st\n",
       "..                               ...      ...     ...   ...   ...\n",
       "315         Willard, Miss. Constance      yes  female  21.0   1st\n",
       "319        Wilson, Miss. Helen Alice      yes  female  31.0   1st\n",
       "322         Young, Miss. Marie Grice      yes  female  36.0   1st\n",
       "\n",
       "[144 rows x 5 columns]"
      ]
     },
     "execution_count": 58,
     "metadata": {},
     "output_type": "execute_result"
    }
   ],
   "source": [
    "first_class_women = titanic[(titanic.sex == 'female') & (titanic['class'] == '1st')]\n",
    "first_class_women"
   ]
  },
  {
   "attachments": {},
   "cell_type": "markdown",
   "metadata": {},
   "source": [
    "*Жінки 1-го класу*"
   ]
  },
  {
   "attachments": {},
   "cell_type": "markdown",
   "metadata": {},
   "source": [
    "### Отримання наймолодшої жінки з 1-го класу"
   ]
  },
  {
   "cell_type": "code",
   "execution_count": 59,
   "metadata": {},
   "outputs": [
    {
     "data": {
      "text/plain": [
       "name        Allison, Miss. Helen Loraine\n",
       "survived                              no\n",
       "sex                               female\n",
       "age                                  2.0\n",
       "class                                1st\n",
       "Name: 2, dtype: object"
      ]
     },
     "execution_count": 59,
     "metadata": {},
     "output_type": "execute_result"
    }
   ],
   "source": [
    "first_class_women.loc[first_class_women.age.idxmin()]"
   ]
  },
  {
   "attachments": {},
   "cell_type": "markdown",
   "metadata": {},
   "source": [
    "*Наймолодша жінка з 1-го класу*"
   ]
  },
  {
   "attachments": {},
   "cell_type": "markdown",
   "metadata": {},
   "source": [
    "### Отримання найстаршої жінки з 1-ого класу"
   ]
  },
  {
   "cell_type": "code",
   "execution_count": 60,
   "metadata": {},
   "outputs": [
    {
     "data": {
      "text/plain": [
       "name        Cavendish, Mrs. Tyrell William\n",
       "survived                               yes\n",
       "sex                                 female\n",
       "age                                   76.0\n",
       "class                                  1st\n",
       "Name: 61, dtype: object"
      ]
     },
     "execution_count": 60,
     "metadata": {},
     "output_type": "execute_result"
    }
   ],
   "source": [
    "first_class_women.loc[first_class_women.age.idxmax()]"
   ]
  },
  {
   "attachments": {},
   "cell_type": "markdown",
   "metadata": {},
   "source": [
    "*Найстарша жінка з 1-го класу*"
   ]
  },
  {
   "attachments": {},
   "cell_type": "markdown",
   "metadata": {},
   "source": [
    "### Знайдемо кількість жінок з першого класу, що вижили"
   ]
  },
  {
   "cell_type": "code",
   "execution_count": 61,
   "metadata": {},
   "outputs": [
    {
     "data": {
      "text/plain": [
       "139"
      ]
     },
     "execution_count": 61,
     "metadata": {},
     "output_type": "execute_result"
    }
   ],
   "source": [
    "len(first_class_women[first_class_women.survived == 'yes'])"
   ]
  },
  {
   "attachments": {},
   "cell_type": "markdown",
   "metadata": {},
   "source": [
    "*Кількість жінок з першого класу, що вижили*"
   ]
  },
  {
   "attachments": {},
   "cell_type": "markdown",
   "metadata": {},
   "source": [
    "## 3.11 Побудувати гістограму віку пасажирів"
   ]
  },
  {
   "attachments": {},
   "cell_type": "markdown",
   "metadata": {},
   "source": [
    "### Гістограма віку матодом hist"
   ]
  },
  {
   "cell_type": "code",
   "execution_count": 62,
   "metadata": {},
   "outputs": [
    {
     "data": {
      "text/plain": [
       "<AxesSubplot: >"
      ]
     },
     "execution_count": 62,
     "metadata": {},
     "output_type": "execute_result"
    },
    {
     "data": {
      "image/png": "[encoded data removed]",
      "text/plain": [
       "<Figure size 640x480 with 1 Axes>"
      ]
     },
     "metadata": {},
     "output_type": "display_data"
    }
   ],
   "source": [
    "titanic.age.hist()"
   ]
  },
  {
   "attachments": {},
   "cell_type": "markdown",
   "metadata": {},
   "source": [
    "*Гістограма віку*"
   ]
  }
 ],
 "metadata": {
  "kernelspec": {
   "display_name": "Python 3",
   "language": "python",
   "name": "python3"
  },
  "language_info": {
   "codemirror_mode": {
    "name": "ipython",
    "version": 3
   },
   "file_extension": ".py",
   "mimetype": "text/x-python",
   "name": "python",
   "nbconvert_exporter": "python",
   "pygments_lexer": "ipython3",
   "version": "3.10.6"
  },
  "orig_nbformat": 4
 },
 "nbformat": 4,
 "nbformat_minor": 2
}
